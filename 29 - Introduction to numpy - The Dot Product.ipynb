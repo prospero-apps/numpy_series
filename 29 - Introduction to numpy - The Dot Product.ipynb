{
 "cells": [
  {
   "cell_type": "markdown",
   "metadata": {},
   "source": [
    "If we multiply two matrix arrays, the multiplication is performed elementwise, which is not what real matrix multiplication is. Let's see again how multiplication works:"
   ]
  },
  {
   "cell_type": "code",
   "execution_count": 1,
   "metadata": {},
   "outputs": [
    {
     "data": {
      "text/plain": [
       "array([12, 48,  2])"
      ]
     },
     "execution_count": 1,
     "metadata": {},
     "output_type": "execute_result"
    }
   ],
   "source": [
    "import numpy as np\n",
    "\n",
    "# Let's create two vector arrays first and multiply them using the standard multiplication operator:\n",
    "A = np.array([3, 8, 2])\n",
    "B = np.array([4, 6, 1])\n",
    "A * B"
   ]
  },
  {
   "cell_type": "code",
   "execution_count": 2,
   "metadata": {},
   "outputs": [
    {
     "data": {
      "text/plain": [
       "62"
      ]
     },
     "execution_count": 2,
     "metadata": {},
     "output_type": "execute_result"
    }
   ],
   "source": [
    "# If instead we want to calculate the dot product of the two vectors, we should use the np.dot function:\n",
    "np.dot(A, B)   "
   ]
  },
  {
   "cell_type": "code",
   "execution_count": 11,
   "metadata": {},
   "outputs": [
    {
     "data": {
      "text/plain": [
       "array([[2, 5, 9],\n",
       "       [3, 4, 1],\n",
       "       [2, 1, 1]])"
      ]
     },
     "execution_count": 11,
     "metadata": {},
     "output_type": "execute_result"
    }
   ],
   "source": [
    "# Now let's create matrix arrays and multiply them using the standard multiplication operator. This will work elementwise.\n",
    "C = np.array([[2, 5, 9], [3, 4, 1], [2, 1, 1]])\n",
    "C"
   ]
  },
  {
   "cell_type": "code",
   "execution_count": 9,
   "metadata": {},
   "outputs": [
    {
     "data": {
      "text/plain": [
       "array([[2, 1, 4],\n",
       "       [1, 6, 5],\n",
       "       [3, 4, 0]])"
      ]
     },
     "execution_count": 9,
     "metadata": {},
     "output_type": "execute_result"
    }
   ],
   "source": [
    "D = np.array([[2, 1, 4], [1, 6, 5], [3, 4, 0]])\n",
    "D"
   ]
  },
  {
   "cell_type": "code",
   "execution_count": 12,
   "metadata": {},
   "outputs": [
    {
     "data": {
      "text/plain": [
       "array([[ 4,  5, 36],\n",
       "       [ 3, 24,  5],\n",
       "       [ 6,  4,  0]])"
      ]
     },
     "execution_count": 12,
     "metadata": {},
     "output_type": "execute_result"
    }
   ],
   "source": [
    "C * D"
   ]
  },
  {
   "cell_type": "code",
   "execution_count": 13,
   "metadata": {},
   "outputs": [
    {
     "data": {
      "text/plain": [
       "array([[36, 68, 33],\n",
       "       [13, 31, 32],\n",
       "       [ 8, 12, 13]])"
      ]
     },
     "execution_count": 13,
     "metadata": {},
     "output_type": "execute_result"
    }
   ],
   "source": [
    "# Again, we use the np.dot function to calculate the dot product:\n",
    "np.dot(C, D)"
   ]
  },
  {
   "cell_type": "code",
   "execution_count": 15,
   "metadata": {},
   "outputs": [
    {
     "data": {
      "text/plain": [
       "array([[2, 5, 1],\n",
       "       [4, 3, 8]])"
      ]
     },
     "execution_count": 15,
     "metadata": {},
     "output_type": "execute_result"
    }
   ],
   "source": [
    "# Matrix multiplication is only possible if the number of columns of the first matrix is the same as the number of rows\n",
    "# of the second matrix.\n",
    "# Let's create two other arrays and multiply them using the np.dot function:\n",
    "E = np.array([[2, 5, 1], [4, 3, 8]])\n",
    "E"
   ]
  },
  {
   "cell_type": "code",
   "execution_count": 19,
   "metadata": {},
   "outputs": [
    {
     "data": {
      "text/plain": [
       "array([[2, 6],\n",
       "       [3, 5],\n",
       "       [0, 4]])"
      ]
     },
     "execution_count": 19,
     "metadata": {},
     "output_type": "execute_result"
    }
   ],
   "source": [
    "F = np.array([[2, 6], [3, 5], [0, 4]])\n",
    "F        "
   ]
  },
  {
   "cell_type": "markdown",
   "metadata": {},
   "source": [
    "Now, the first matrix has 3 columns and the second matrix has 3 rows, so we can calculate their dot product.\n",
    "\n",
    "Just a quick reminder on matrix multiplication. In the example above we have the following two matrices:\n",
    "E = [2, 5, 1], or symbolically [e11, e12, e13]\n",
    "    [4, 3, 8],                 [e21, e22, e23]\n",
    "                   \n",
    "\n",
    "and \n",
    "\n",
    "F = [2, 6], or symbolically [f11, f12]\n",
    "    [3, 5],                 [f21, f22]\n",
    "    [0, 4]                  [f31, f32]\n",
    "    \n",
    "\n",
    "\n",
    "And here's how the dot product is calculated:\n",
    "\n",
    "[e11*f11 + e12*f21 + e13*f31 = 2*2 + 5*3 + 1*0 = 19, e11*f12 + e12*f22 + e13*f32 = 2*6 + 5*5 + 1*4 = 41]\n",
    "[e21*f11 + e22*f21 + e23*f31 = 4*2 + 3*3 + 8*0 + 17, e21*f12 + e22*f22 + e23*f32 = 4*6 + 3*5 + 8*4 = 71]\n"
   ]
  },
  {
   "cell_type": "code",
   "execution_count": 20,
   "metadata": {},
   "outputs": [
    {
     "data": {
      "text/plain": [
       "array([[19, 41],\n",
       "       [17, 71]])"
      ]
     },
     "execution_count": 20,
     "metadata": {},
     "output_type": "execute_result"
    }
   ],
   "source": [
    "# We should get the same result using the np.dot function:\n",
    "np.dot(E, F)"
   ]
  },
  {
   "cell_type": "code",
   "execution_count": 22,
   "metadata": {},
   "outputs": [
    {
     "data": {
      "text/plain": [
       "array([[19, 41],\n",
       "       [17, 71]])"
      ]
     },
     "execution_count": 22,
     "metadata": {},
     "output_type": "execute_result"
    }
   ],
   "source": [
    "# Alternatively, we can use the @ operator for matrix multiplication. It also returns the dot product of two matrices:\n",
    "E @ F"
   ]
  },
  {
   "cell_type": "markdown",
   "metadata": {},
   "source": [
    "EXERCISE\n",
    "\n",
    "Calculate the dot product of the following to matrices on a piece of paper and then check your solution using the np.dot function and the @ operator.\n",
    "\n",
    "Here are the two matrices:\n",
    "\n",
    "X = np.array([10, 5, 2])\n",
    "Y = np.array([[4, 3, 2, 5], [7, 10, 0, 1], [3, 3, 2, 6]])\n",
    "\n",
    "SOLUTION"
   ]
  },
  {
   "cell_type": "code",
   "execution_count": 24,
   "metadata": {},
   "outputs": [
    {
     "data": {
      "text/plain": [
       "array([81, 86, 24, 67])"
      ]
     },
     "execution_count": 24,
     "metadata": {},
     "output_type": "execute_result"
    }
   ],
   "source": [
    "X = np.array([10, 5, 2])\n",
    "Y = np.array([[4, 3, 2, 5], [7, 10, 0, 1], [3, 3, 2, 6]])\n",
    "\n",
    "np.dot(X, Y)"
   ]
  },
  {
   "cell_type": "code",
   "execution_count": 25,
   "metadata": {},
   "outputs": [
    {
     "data": {
      "text/plain": [
       "array([81, 86, 24, 67])"
      ]
     },
     "execution_count": 25,
     "metadata": {},
     "output_type": "execute_result"
    }
   ],
   "source": [
    "X @ Y"
   ]
  }
 ],
 "metadata": {
  "kernelspec": {
   "display_name": "Python 3",
   "language": "python",
   "name": "python3"
  },
  "language_info": {
   "codemirror_mode": {
    "name": "ipython",
    "version": 3
   },
   "file_extension": ".py",
   "mimetype": "text/x-python",
   "name": "python",
   "nbconvert_exporter": "python",
   "pygments_lexer": "ipython3",
   "version": "3.7.4"
  }
 },
 "nbformat": 4,
 "nbformat_minor": 2
}
