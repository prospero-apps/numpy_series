{
 "cells": [
  {
   "cell_type": "markdown",
   "metadata": {},
   "source": [
    "The Spyder Integrated Development Environment is used to write Python modules and packages as well as run Python code interactively. Through its integration with the IPython console Spyder is especially suitable for working with the scientific libraries.\n",
    "\n",
    "Let's open the IDE and have a look at it. The IDE consists of several panes:\n",
    "\n",
    "- the source code editor\n",
    "- the IPython console \n",
    "- the variable explorer\n",
    "- the file explorer\n",
    "- the command history\n",
    "- the profiler\n",
    "\n",
    "and some more.\n",
    "\n",
    "\n",
    "The source code editor has all the functionality a good code editor should have: code highlighting, autocompletion, parenthesis matching, indentation guidance. It allows you to work on multiple files simultaneously. \n",
    "\n",
    "\n",
    "The added benefit from using an IDE is that code in the editor can be run – as a\n",
    "whole (shortcut F5) or a selection (shortcut F9) – in attached Python or IPython consoles\n",
    "with persistent sessions between successive runs.\n",
    "\n",
    "Now let's enter some simple Python code:\n",
    "\n",
    "print('hello')\n",
    "print('world')\n",
    "\n",
    "To run this code in the console, just press F5.\n",
    "\n",
    "And now highlight just the first line of the code. You can now press F9 to run just the highlighted part of the code. \n",
    "\n",
    "You can easily get help on any function, class, module, and so on used in the editor. Just press Ctrl+I when on this element.\n",
    "\n",
    "If you want to use the Spyder IDE on a regular basis, the IDE has a very good detailed tutorial that you can use to begin with. You can find it in the Help menu."
   ]
  }
 ],
 "metadata": {
  "kernelspec": {
   "display_name": "Python 3",
   "language": "python",
   "name": "python3"
  },
  "language_info": {
   "codemirror_mode": {
    "name": "ipython",
    "version": 3
   },
   "file_extension": ".py",
   "mimetype": "text/x-python",
   "name": "python",
   "nbconvert_exporter": "python",
   "pygments_lexer": "ipython3",
   "version": "3.7.4"
  }
 },
 "nbformat": 4,
 "nbformat_minor": 2
}
