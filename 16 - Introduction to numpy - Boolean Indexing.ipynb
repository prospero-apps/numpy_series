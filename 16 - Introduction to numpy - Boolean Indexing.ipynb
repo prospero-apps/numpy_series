{
 "cells": [
  {
   "cell_type": "markdown",
   "metadata": {},
   "source": [
    "numpy arrays may be indexed with boolean expression. All elements are selected for which the value of the boolean expression evaluates to True. Here's a simple example:"
   ]
  },
  {
   "cell_type": "code",
   "execution_count": 1,
   "metadata": {},
   "outputs": [
    {
     "data": {
      "text/plain": [
       "array([ True, False,  True, False,  True, False,  True, False, False])"
      ]
     },
     "execution_count": 1,
     "metadata": {},
     "output_type": "execute_result"
    }
   ],
   "source": [
    "import numpy as np\n",
    "\n",
    "# Let's create an array\n",
    "A = np.array([4, 12, 7, 11, 9, 22, 6, 42, 61])\n",
    "\n",
    "# Now let's select only the elements which are less than 10.\n",
    "# First let's see for which elements this is True:\n",
    "A < 10"
   ]
  },
  {
   "cell_type": "code",
   "execution_count": 2,
   "metadata": {},
   "outputs": [
    {
     "data": {
      "text/plain": [
       "array([4, 7, 9, 6])"
      ]
     },
     "execution_count": 2,
     "metadata": {},
     "output_type": "execute_result"
    }
   ],
   "source": [
    "# And now let's use the expression as the index.\n",
    "A[A < 10]"
   ]
  },
  {
   "cell_type": "code",
   "execution_count": 5,
   "metadata": {},
   "outputs": [
    {
     "data": {
      "text/plain": [
       "array([11, 22])"
      ]
     },
     "execution_count": 5,
     "metadata": {},
     "output_type": "execute_result"
    }
   ],
   "source": [
    "# How about elements that are divisible by 11?\n",
    "A[A % 11 == 0]"
   ]
  },
  {
   "cell_type": "code",
   "execution_count": 7,
   "metadata": {},
   "outputs": [
    {
     "data": {
      "text/plain": [
       "array([[  9,  12,  15,  18,  21,  24],\n",
       "       [  6,   8,  10,  12,  14,  16],\n",
       "       [  3,   4,   5,   6,   7,   8],\n",
       "       [  0,   0,   0,   0,   0,   0],\n",
       "       [ -3,  -4,  -5,  -6,  -7,  -8],\n",
       "       [ -6,  -8, -10, -12, -14, -16]])"
      ]
     },
     "execution_count": 7,
     "metadata": {},
     "output_type": "execute_result"
    }
   ],
   "source": [
    "# And now let's create a multidimensional array.\n",
    "B = np.fromfunction(lambda x, y: (3 - x) * (y + 3), (6, 6), dtype = int)\n",
    "B"
   ]
  },
  {
   "cell_type": "code",
   "execution_count": 9,
   "metadata": {},
   "outputs": [
    {
     "data": {
      "text/plain": [
       "array([ 9, 12, 15, 18, 21, 24,  6,  8, 10, 12, 14, 16,  3,  4,  5,  6,  7,\n",
       "        8])"
      ]
     },
     "execution_count": 9,
     "metadata": {},
     "output_type": "execute_result"
    }
   ],
   "source": [
    "# Let's filter out all the negative and zero values:\n",
    "B[B > 0]"
   ]
  },
  {
   "cell_type": "markdown",
   "metadata": {},
   "source": [
    "As you can see, we get a 1-dimensional array with all the elements for which the boolean expression was True. One thing to remember about fancy indexing and boolean indexing is that the new arrays are independent arrays, not views."
   ]
  },
  {
   "cell_type": "markdown",
   "metadata": {},
   "source": [
    "EXERCISE\n",
    "\n",
    "Create a 1-dimensional X array with 100 numbers evenly spaced between -2 and 2 (inclusive). Use boolean indexing to create a new array with all the elements from the X array which raised to the power of 2 are greater than 3.\n",
    "\n",
    "SOLUTION"
   ]
  },
  {
   "cell_type": "code",
   "execution_count": 10,
   "metadata": {},
   "outputs": [],
   "source": [
    "X = np.linspace?"
   ]
  },
  {
   "cell_type": "code",
   "execution_count": 11,
   "metadata": {},
   "outputs": [
    {
     "data": {
      "text/plain": [
       "array([-2.        , -1.95959596, -1.91919192, -1.87878788, -1.83838384,\n",
       "       -1.7979798 , -1.75757576, -1.71717172, -1.67676768, -1.63636364,\n",
       "       -1.5959596 , -1.55555556, -1.51515152, -1.47474747, -1.43434343,\n",
       "       -1.39393939, -1.35353535, -1.31313131, -1.27272727, -1.23232323,\n",
       "       -1.19191919, -1.15151515, -1.11111111, -1.07070707, -1.03030303,\n",
       "       -0.98989899, -0.94949495, -0.90909091, -0.86868687, -0.82828283,\n",
       "       -0.78787879, -0.74747475, -0.70707071, -0.66666667, -0.62626263,\n",
       "       -0.58585859, -0.54545455, -0.50505051, -0.46464646, -0.42424242,\n",
       "       -0.38383838, -0.34343434, -0.3030303 , -0.26262626, -0.22222222,\n",
       "       -0.18181818, -0.14141414, -0.1010101 , -0.06060606, -0.02020202,\n",
       "        0.02020202,  0.06060606,  0.1010101 ,  0.14141414,  0.18181818,\n",
       "        0.22222222,  0.26262626,  0.3030303 ,  0.34343434,  0.38383838,\n",
       "        0.42424242,  0.46464646,  0.50505051,  0.54545455,  0.58585859,\n",
       "        0.62626263,  0.66666667,  0.70707071,  0.74747475,  0.78787879,\n",
       "        0.82828283,  0.86868687,  0.90909091,  0.94949495,  0.98989899,\n",
       "        1.03030303,  1.07070707,  1.11111111,  1.15151515,  1.19191919,\n",
       "        1.23232323,  1.27272727,  1.31313131,  1.35353535,  1.39393939,\n",
       "        1.43434343,  1.47474747,  1.51515152,  1.55555556,  1.5959596 ,\n",
       "        1.63636364,  1.67676768,  1.71717172,  1.75757576,  1.7979798 ,\n",
       "        1.83838384,  1.87878788,  1.91919192,  1.95959596,  2.        ])"
      ]
     },
     "execution_count": 11,
     "metadata": {},
     "output_type": "execute_result"
    }
   ],
   "source": [
    "X = np.linspace(-2, 2, 100)\n",
    "X"
   ]
  },
  {
   "cell_type": "code",
   "execution_count": 12,
   "metadata": {},
   "outputs": [
    {
     "data": {
      "text/plain": [
       "array([-2.        , -1.95959596, -1.91919192, -1.87878788, -1.83838384,\n",
       "       -1.7979798 , -1.75757576,  1.75757576,  1.7979798 ,  1.83838384,\n",
       "        1.87878788,  1.91919192,  1.95959596,  2.        ])"
      ]
     },
     "execution_count": 12,
     "metadata": {},
     "output_type": "execute_result"
    }
   ],
   "source": [
    "X[X ** 2 > 3]"
   ]
  }
 ],
 "metadata": {
  "kernelspec": {
   "display_name": "Python 3",
   "language": "python",
   "name": "python3"
  },
  "language_info": {
   "codemirror_mode": {
    "name": "ipython",
    "version": 3
   },
   "file_extension": ".py",
   "mimetype": "text/x-python",
   "name": "python",
   "nbconvert_exporter": "python",
   "pygments_lexer": "ipython3",
   "version": "3.7.4"
  }
 },
 "nbformat": 4,
 "nbformat_minor": 2
}
