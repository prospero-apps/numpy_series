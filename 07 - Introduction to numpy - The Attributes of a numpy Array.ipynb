{
 "cells": [
  {
   "cell_type": "markdown",
   "metadata": {},
   "source": [
    "In the previous lecture we created our first numpy arrays. Let's create another array to have something to work on:"
   ]
  },
  {
   "cell_type": "code",
   "execution_count": 1,
   "metadata": {},
   "outputs": [
    {
     "name": "stdout",
     "output_type": "stream",
     "text": [
      "[ 2  4  6  8 10]\n"
     ]
    }
   ],
   "source": [
    "import numpy as np\n",
    "X = np.array([2, 4, 6, 8, 10])\n",
    "print(X)"
   ]
  },
  {
   "cell_type": "markdown",
   "metadata": {},
   "source": [
    "The class that numpy uses for the arrays is the ndarray. An ndarray object contains the data stored in the array but also some other attributes that characterize the array. We'll be making use of these attributes throughout the course, so let's have a look at them now.\n",
    "\n",
    "If you want to see all the attributes that are available, just use the question mark notation used in jupyter Notebook to get help:"
   ]
  },
  {
   "cell_type": "code",
   "execution_count": 2,
   "metadata": {},
   "outputs": [],
   "source": [
    "np.ndarray?"
   ]
  },
  {
   "cell_type": "markdown",
   "metadata": {},
   "source": [
    "For our needs we'll have a look at the following attributes: shape, size, ndim, nbytes and dtype.\n",
    "\n",
    "The shape attribute is a tuple that contains the number of elements in each dimension. So, let's see how it works with our X array:"
   ]
  },
  {
   "cell_type": "code",
   "execution_count": 3,
   "metadata": {},
   "outputs": [
    {
     "data": {
      "text/plain": [
       "(5,)"
      ]
     },
     "execution_count": 3,
     "metadata": {},
     "output_type": "execute_result"
    }
   ],
   "source": [
    "X.shape"
   ]
  },
  {
   "cell_type": "markdown",
   "metadata": {},
   "source": [
    "So, our tuple contains just one number, because our array is 1-dimensional. Let's create a 2-dimensional array then by passing a list of lists as the argument:"
   ]
  },
  {
   "cell_type": "code",
   "execution_count": 11,
   "metadata": {},
   "outputs": [
    {
     "data": {
      "text/plain": [
       "array([[1, 2],\n",
       "       [5, 7],\n",
       "       [4, 6]])"
      ]
     },
     "execution_count": 11,
     "metadata": {},
     "output_type": "execute_result"
    }
   ],
   "source": [
    "Y = np.array([[1, 2], [5, 7], [4, 6]])\n",
    "Y"
   ]
  },
  {
   "cell_type": "markdown",
   "metadata": {},
   "source": [
    "And now let's check out its shape:"
   ]
  },
  {
   "cell_type": "code",
   "execution_count": 12,
   "metadata": {},
   "outputs": [
    {
     "data": {
      "text/plain": [
       "(3, 2)"
      ]
     },
     "execution_count": 12,
     "metadata": {},
     "output_type": "execute_result"
    }
   ],
   "source": [
    "Y.shape"
   ]
  },
  {
   "cell_type": "markdown",
   "metadata": {},
   "source": [
    "This time we can see that this is a 2-dimensional array with three elements in the first dimension and 2 elements in the second dimension. If you have a look at the Y array printed out above, you can see that this can be interpreted as an array with 3 rows and 2 columns. \n",
    "\n",
    "The next attribute is ndim. It tells us the number of dimensions. So, if we use it on our X and Y arrays, we should get 1 and 2 respectively:"
   ]
  },
  {
   "cell_type": "code",
   "execution_count": 14,
   "metadata": {},
   "outputs": [
    {
     "name": "stdout",
     "output_type": "stream",
     "text": [
      "1\n",
      "2\n"
     ]
    }
   ],
   "source": [
    "print(X.ndim)\n",
    "print(Y.ndim)"
   ]
  },
  {
   "cell_type": "markdown",
   "metadata": {},
   "source": [
    "The next attribute is size. It tells us the total number of all the elements in the array. There are 5 elements in X and 6 elements in Y:"
   ]
  },
  {
   "cell_type": "code",
   "execution_count": 15,
   "metadata": {},
   "outputs": [
    {
     "name": "stdout",
     "output_type": "stream",
     "text": [
      "5\n",
      "6\n"
     ]
    }
   ],
   "source": [
    "print(X.size)\n",
    "print(Y.size)"
   ]
  },
  {
   "cell_type": "markdown",
   "metadata": {},
   "source": [
    "The next attribute is dtype. As you know all the elements in an array are of the same type. This attribute is used to check what data type the elements in the array are. In our case, both X and Y contain integers:"
   ]
  },
  {
   "cell_type": "code",
   "execution_count": 16,
   "metadata": {},
   "outputs": [
    {
     "name": "stdout",
     "output_type": "stream",
     "text": [
      "int32\n",
      "int32\n"
     ]
    }
   ],
   "source": [
    "print(X.dtype)\n",
    "print(Y.dtype)"
   ]
  },
  {
   "cell_type": "markdown",
   "metadata": {},
   "source": [
    "We'll be talking about data types used in numpy in the next lecture. What we have here is a 32-bit integer, so an integer that takes up 32 bits or 4 bytes (1 byte = 8 bits). \n",
    "\n",
    "Knowing the data type of our elements and their total number we can calculate the total size of an array:\n",
    "\n",
    "In X we have 5 elements, 4 bytes each, so 5 x 4 = 20 bytes altogether.\n",
    "In Y we have 6 elements, 4 bytes each, so 6 x 4 = 24 bytes altogether.\n",
    "\n",
    "We don't have to make these advanced calculations. Instead we can use the nbytes attribute that will tell us how big our arrays are:"
   ]
  },
  {
   "cell_type": "code",
   "execution_count": 17,
   "metadata": {},
   "outputs": [
    {
     "name": "stdout",
     "output_type": "stream",
     "text": [
      "20\n",
      "24\n"
     ]
    }
   ],
   "source": [
    "print(X.nbytes)\n",
    "print(Y.nbytes)"
   ]
  },
  {
   "cell_type": "markdown",
   "metadata": {},
   "source": [
    "EXERCISE\n",
    "\n",
    "Here's an array:"
   ]
  },
  {
   "cell_type": "code",
   "execution_count": 20,
   "metadata": {},
   "outputs": [],
   "source": [
    "M = np.array([[1.2, .6], [3.1, 5.7]])"
   ]
  },
  {
   "cell_type": "markdown",
   "metadata": {},
   "source": [
    "Using the attributes you learned in this lecture, check the shape, number of dimensions, total number of elements, data type and total number of bytes used to store the data in the array.\n",
    "\n",
    "SOLUTION:"
   ]
  },
  {
   "cell_type": "code",
   "execution_count": 21,
   "metadata": {},
   "outputs": [
    {
     "name": "stdout",
     "output_type": "stream",
     "text": [
      "(2, 2)\n",
      "2\n",
      "4\n",
      "float64\n",
      "32\n"
     ]
    }
   ],
   "source": [
    "print(M.shape)\n",
    "print(M.ndim)\n",
    "print(M.size)\n",
    "print(M.dtype)\n",
    "print(M.nbytes)"
   ]
  },
  {
   "cell_type": "code",
   "execution_count": null,
   "metadata": {},
   "outputs": [],
   "source": []
  },
  {
   "cell_type": "code",
   "execution_count": null,
   "metadata": {},
   "outputs": [],
   "source": []
  }
 ],
 "metadata": {
  "kernelspec": {
   "display_name": "Python 3",
   "language": "python",
   "name": "python3"
  },
  "language_info": {
   "codemirror_mode": {
    "name": "ipython",
    "version": 3
   },
   "file_extension": ".py",
   "mimetype": "text/x-python",
   "name": "python",
   "nbconvert_exporter": "python",
   "pygments_lexer": "ipython3",
   "version": "3.7.4"
  }
 },
 "nbformat": 4,
 "nbformat_minor": 2
}
