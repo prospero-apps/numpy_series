{
 "cells": [
  {
   "cell_type": "markdown",
   "metadata": {},
   "source": [
    "In this course we discussed the very basics of the numpy module. There's much more you can do with this module, so make sure you have mastered all the topics covered in this course before you continue your adventure with numpy and with scientific Python in general.\n",
    "\n",
    "numpy plays a special role in the scientific Python ecosystem. It delivers a tool which you can use in all the other scientific libraries like pandas, matplotlip and tens of others. It's practically impossible to dive into scientific Python without mastering the basics of numpy.\n",
    "\n",
    "In this course we were talking about the development tools like the IPython console, the Spyder IDE and, first of all, the Jupyter Notebook web application. These are the tools you'll be most probably using when working with numpy and the other scientific modules in the future, so they're worth knowing.\n",
    "\n",
    "Then we discussed the numpy arrays. We learned how to create them and how to use them. We discussed all the different operations on numpy arrays and the functions the numpy module provides. \n",
    "\n",
    "I hope you liked the course and, first of all, found it useful. Looking forward to seeing you in one of my future courses."
   ]
  }
 ],
 "metadata": {
  "kernelspec": {
   "display_name": "Python 3",
   "language": "python",
   "name": "python3"
  },
  "language_info": {
   "codemirror_mode": {
    "name": "ipython",
    "version": 3
   },
   "file_extension": ".py",
   "mimetype": "text/x-python",
   "name": "python",
   "nbconvert_exporter": "python",
   "pygments_lexer": "ipython3",
   "version": "3.7.4"
  }
 },
 "nbformat": 4,
 "nbformat_minor": 2
}
