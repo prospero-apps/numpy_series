{
 "cells": [
  {
   "cell_type": "markdown",
   "metadata": {},
   "source": [
    "numpy offers us a couple of logical functions, in particular np.logical_and, np.logical_or, np.logical_xor and np.logical_not. Let's start with the last one. We use the np.logical_not function to elementwise invert an array. Zero is interpreted as False, any nonzero value as True."
   ]
  },
  {
   "cell_type": "code",
   "execution_count": 3,
   "metadata": {},
   "outputs": [
    {
     "data": {
      "text/plain": [
       "array([False,  True, False, False, False,  True, False])"
      ]
     },
     "execution_count": 3,
     "metadata": {},
     "output_type": "execute_result"
    }
   ],
   "source": [
    "import numpy as np\n",
    "\n",
    "# Let's first create an array of numbers:\n",
    "A = np.array([-2, 0, 4, 2, 9, 0, 3])\n",
    "\n",
    "# Now let's invert it:\n",
    "np.logical_not(A)"
   ]
  },
  {
   "cell_type": "markdown",
   "metadata": {},
   "source": [
    "As you can see in the output, the values are inverted: we have True for zero values and False for nonzero values."
   ]
  },
  {
   "cell_type": "code",
   "execution_count": 4,
   "metadata": {},
   "outputs": [
    {
     "data": {
      "text/plain": [
       "array([False, False,  True,  True,  True, False,  True])"
      ]
     },
     "execution_count": 4,
     "metadata": {},
     "output_type": "execute_result"
    }
   ],
   "source": [
    "# Another example:\n",
    "np.logical_not(A <= 0)"
   ]
  },
  {
   "cell_type": "markdown",
   "metadata": {},
   "source": [
    "Now we have False for the values for which the condition A <= 0 is met and True for the ones for which it's not met. This is because the values are inverted."
   ]
  },
  {
   "cell_type": "markdown",
   "metadata": {},
   "source": [
    "The other functions work elementwise on two arrays. Let's create the two arrays then to demonstrate on them how the logical functions work."
   ]
  },
  {
   "cell_type": "code",
   "execution_count": 11,
   "metadata": {},
   "outputs": [
    {
     "data": {
      "text/plain": [
       "array([ True, False, False, False])"
      ]
     },
     "execution_count": 11,
     "metadata": {},
     "output_type": "execute_result"
    }
   ],
   "source": [
    "# We'll need two arrays:\n",
    "B = np.array([True, False, True, False])\n",
    "C = np.array([True, True, False, False])\n",
    "\n",
    "# Let's start with the np.logical_and function. We'll have True only at indices at which there was True in both arrays.\n",
    "np.logical_and(B, C)"
   ]
  },
  {
   "cell_type": "code",
   "execution_count": 12,
   "metadata": {},
   "outputs": [
    {
     "data": {
      "text/plain": [
       "array([ True,  True,  True, False])"
      ]
     },
     "execution_count": 12,
     "metadata": {},
     "output_type": "execute_result"
    }
   ],
   "source": [
    "# The np.logical_or function returns True if there is True in at least one of the arrays.\n",
    "np.logical_or(B, C)"
   ]
  },
  {
   "cell_type": "code",
   "execution_count": 13,
   "metadata": {},
   "outputs": [
    {
     "data": {
      "text/plain": [
       "array([False,  True,  True, False])"
      ]
     },
     "execution_count": 13,
     "metadata": {},
     "output_type": "execute_result"
    }
   ],
   "source": [
    "# np.logical_xor returns True if there is True in one array, but not in both.\n",
    "np.logical_xor(B, C)"
   ]
  },
  {
   "cell_type": "markdown",
   "metadata": {},
   "source": [
    "EXERCISE\n",
    "\n",
    "Try to figure out on a piece of paper what the resulting array will be if the following logical functions are performed on the X and Y arrays. Then check it out.\n",
    "\n",
    "Here are the two arrays:\n",
    "\n",
    "X = np.array([1, 0, 0, 1])\n",
    "Y = np.array([0, 0, 1, 0])\n",
    "\n",
    "And here's the code. We'll assign the functions to variables for clarity.\n",
    "\n",
    "n = np.logical_not\n",
    "a = np.logical_and\n",
    "r = np.logical_or\n",
    "x = np.logical_xor\n",
    "\n",
    "x(r(n(X), a(X, Y)), Y)\n",
    "\n",
    "SOLUTION"
   ]
  },
  {
   "cell_type": "code",
   "execution_count": 17,
   "metadata": {},
   "outputs": [
    {
     "data": {
      "text/plain": [
       "array([False,  True, False, False])"
      ]
     },
     "execution_count": 17,
     "metadata": {},
     "output_type": "execute_result"
    }
   ],
   "source": [
    "X = np.array([1, 0, 0, 1])\n",
    "Y = np.array([0, 0, 1, 0])\n",
    "\n",
    "n = np.logical_not\n",
    "a = np.logical_and\n",
    "r = np.logical_or\n",
    "x = np.logical_xor\n",
    "\n",
    "x(r(n(X), a(X, Y)), Y)"
   ]
  }
 ],
 "metadata": {
  "kernelspec": {
   "display_name": "Python 3",
   "language": "python",
   "name": "python3"
  },
  "language_info": {
   "codemirror_mode": {
    "name": "ipython",
    "version": 3
   },
   "file_extension": ".py",
   "mimetype": "text/x-python",
   "name": "python",
   "nbconvert_exporter": "python",
   "pygments_lexer": "ipython3",
   "version": "3.7.4"
  }
 },
 "nbformat": 4,
 "nbformat_minor": 2
}
