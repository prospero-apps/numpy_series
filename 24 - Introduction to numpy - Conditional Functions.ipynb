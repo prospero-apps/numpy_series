{
 "cells": [
  {
   "cell_type": "markdown",
   "metadata": {},
   "source": [
    "We can pick values from arrays based on a condition. To this end we can use the functions np.where, np.select and np.choose. Let's have a look at them now one by one.\n",
    "\n",
    "First, the np.where function. It takes 3 arrays as parameters, the first of which is a boolean array, which is actually the condition array. The function creates a new array picking elements from the two arrays passed as the second and third argument. Wherever the value in the condition array is True, the corresponding element from the second array is selected, wherever it's False, an element from the third array is selected. Have a look:"
   ]
  },
  {
   "cell_type": "code",
   "execution_count": 1,
   "metadata": {},
   "outputs": [
    {
     "data": {
      "text/plain": [
       "array([ True, False,  True, False,  True, False])"
      ]
     },
     "execution_count": 1,
     "metadata": {},
     "output_type": "execute_result"
    }
   ],
   "source": [
    "import numpy as np\n",
    "\n",
    "# First let's create the two arrays from which elements will be selected:\n",
    "A = np.array([1, 2, 3, 4, 5, 6])\n",
    "B = np.array([10, 20, 30, 40, 50, 60])\n",
    "\n",
    "# now the condition array. Let's pick the odd numbers from the first array.\n",
    "cond = A % 2 != 0\n",
    "cond"
   ]
  },
  {
   "cell_type": "code",
   "execution_count": 2,
   "metadata": {},
   "outputs": [
    {
     "data": {
      "text/plain": [
       "array([ 1, 20,  3, 40,  5, 60])"
      ]
     },
     "execution_count": 2,
     "metadata": {},
     "output_type": "execute_result"
    }
   ],
   "source": [
    "# And now we can use the condition array to select all elements from A, for which the value in cond is True and the elements\n",
    "# from B for which the value in cond is False:\n",
    "np.where(cond, A, B)"
   ]
  },
  {
   "cell_type": "code",
   "execution_count": 3,
   "metadata": {},
   "outputs": [
    {
     "data": {
      "text/plain": [
       "array([ 1,  2,  3,  4,  5,  6,  7,  8,  9, 10])"
      ]
     },
     "execution_count": 3,
     "metadata": {},
     "output_type": "execute_result"
    }
   ],
   "source": [
    "# We can also create the arrays on the fly. Here's an example:\n",
    "C = np.arange(1, 11)\n",
    "C"
   ]
  },
  {
   "cell_type": "code",
   "execution_count": 4,
   "metadata": {},
   "outputs": [
    {
     "data": {
      "text/plain": [
       "array([ 1.        ,  4.        ,  9.        , 16.        , 25.        ,\n",
       "        2.44948974,  2.64575131,  2.82842712,  3.        ,  3.16227766])"
      ]
     },
     "execution_count": 4,
     "metadata": {},
     "output_type": "execute_result"
    }
   ],
   "source": [
    "# Now, we want the squares of the elements that are less than 6 and square roots of the other elements:\n",
    "np.where(C < 6, C ** 2, np.sqrt(C))"
   ]
  },
  {
   "cell_type": "markdown",
   "metadata": {},
   "source": [
    "The next function is np.select. This function takes two parameters: a list of boolean condition arrays and a list of arrays. In the resulting array we get elements from the array for which the corresponding condition is met. Here's an example."
   ]
  },
  {
   "cell_type": "code",
   "execution_count": 12,
   "metadata": {},
   "outputs": [
    {
     "data": {
      "text/plain": [
       "array([ 3,  1,  0,  4, 20])"
      ]
     },
     "execution_count": 12,
     "metadata": {},
     "output_type": "execute_result"
    }
   ],
   "source": [
    "# Let's define an array\n",
    "D = np.array([-3, -1, 0, 2, 4])\n",
    "\n",
    "# and now let's select the following:\n",
    "# - the absolute values (first array) of negative elements (first condition), so 3 and 1\n",
    "# - the squares (second array) of elements less than 3 (second condition), so 0 and 4\n",
    "# - the quintuples (third array) of elements greater than 3 (third condition), so 20\n",
    "np.select([D < 0, D <= 3, D > 3], [np.abs(D), D ** 2, 5 * D])\n"
   ]
  },
  {
   "cell_type": "markdown",
   "metadata": {},
   "source": [
    "The next function is np.choose. It takes two parameters: a list of indices and a list of arrays. The indices determine from which array an element should be taken. Here's an example."
   ]
  },
  {
   "cell_type": "code",
   "execution_count": 13,
   "metadata": {},
   "outputs": [
    {
     "data": {
      "text/plain": [
       "array([ 1,  2,  3,  4,  5,  6,  7,  8,  9, 10])"
      ]
     },
     "execution_count": 13,
     "metadata": {},
     "output_type": "execute_result"
    }
   ],
   "source": [
    "# Let's create three arrays:\n",
    "E = np.arange(1, 11)\n",
    "E"
   ]
  },
  {
   "cell_type": "code",
   "execution_count": 14,
   "metadata": {},
   "outputs": [
    {
     "data": {
      "text/plain": [
       "array([101, 102, 103, 104, 105, 106, 107, 108, 109, 110])"
      ]
     },
     "execution_count": 14,
     "metadata": {},
     "output_type": "execute_result"
    }
   ],
   "source": [
    "F = np.arange(101, 111)\n",
    "F"
   ]
  },
  {
   "cell_type": "code",
   "execution_count": 15,
   "metadata": {},
   "outputs": [
    {
     "data": {
      "text/plain": [
       "array([1001, 1002, 1003, 1004, 1005, 1006, 1007, 1008, 1009, 1010])"
      ]
     },
     "execution_count": 15,
     "metadata": {},
     "output_type": "execute_result"
    }
   ],
   "source": [
    "G = np.arange(1001, 1011)\n",
    "G"
   ]
  },
  {
   "cell_type": "code",
   "execution_count": 17,
   "metadata": {},
   "outputs": [
    {
     "data": {
      "text/plain": [
       "array([   1,    2,  103,  104,  105,  106,  107,    8, 1009, 1010])"
      ]
     },
     "execution_count": 17,
     "metadata": {},
     "output_type": "execute_result"
    }
   ],
   "source": [
    "# And now suppose we want the first two elements from the first array, then five elements from the second array\n",
    "# then again one element from the first array and finally two elements from the last array. Here's how we can\n",
    "# do it using the indices of the arrays in the list of arrays:\n",
    "np.choose([0, 0, 1, 1, 1, 1, 1, 0, 2, 2], [E, F, G])"
   ]
  },
  {
   "cell_type": "markdown",
   "metadata": {},
   "source": [
    "EXERCISE\n",
    "\n",
    "Create an array of 50 evenly spaced numbers between -100 and 50 and call it X. Set the dtype to int, so that the numbers are truncated down to integers. Then create an array of square roots of the absolute values of all the negative elements in X, squares of all the positive elements less 20 and the constant 100 for all positive numbers equal to or greater than 20.\n",
    "\n",
    "\n",
    "SOLUTION"
   ]
  },
  {
   "cell_type": "code",
   "execution_count": 23,
   "metadata": {},
   "outputs": [
    {
     "data": {
      "text/plain": [
       "array([-100,  -96,  -93,  -90,  -87,  -84,  -81,  -78,  -75,  -72,  -69,\n",
       "        -66,  -63,  -60,  -57,  -54,  -51,  -47,  -44,  -41,  -38,  -35,\n",
       "        -32,  -29,  -26,  -23,  -20,  -17,  -14,  -11,   -8,   -5,   -2,\n",
       "          1,    4,    7,   10,   13,   16,   19,   22,   25,   28,   31,\n",
       "         34,   37,   40,   43,   46,   50])"
      ]
     },
     "execution_count": 23,
     "metadata": {},
     "output_type": "execute_result"
    }
   ],
   "source": [
    "X = np.linspace(-100, 50, 50, dtype = int)    # np.linspace(-10, 5) would also work because the default value of elements is 50\n",
    "X"
   ]
  },
  {
   "cell_type": "code",
   "execution_count": 27,
   "metadata": {},
   "outputs": [
    {
     "data": {
      "text/plain": [
       "array([ 10.        ,   9.79795897,   9.64365076,   9.48683298,\n",
       "         9.32737905,   9.16515139,   9.        ,   8.83176087,\n",
       "         8.66025404,   8.48528137,   8.30662386,   8.1240384 ,\n",
       "         7.93725393,   7.74596669,   7.54983444,   7.34846923,\n",
       "         7.14142843,   6.8556546 ,   6.63324958,   6.40312424,\n",
       "         6.164414  ,   5.91607978,   5.65685425,   5.38516481,\n",
       "         5.09901951,   4.79583152,   4.47213595,   4.12310563,\n",
       "         3.74165739,   3.31662479,   2.82842712,   2.23606798,\n",
       "         1.41421356,   1.        ,  16.        ,  49.        ,\n",
       "       100.        , 169.        , 256.        , 361.        ,\n",
       "       100.        , 100.        , 100.        , 100.        ,\n",
       "       100.        , 100.        , 100.        , 100.        ,\n",
       "       100.        , 100.        ])"
      ]
     },
     "execution_count": 27,
     "metadata": {},
     "output_type": "execute_result"
    }
   ],
   "source": [
    "np.select([X < 0, X < 20, X >= 20], [np.sqrt(np.abs(X)), X ** 2, 100])"
   ]
  }
 ],
 "metadata": {
  "kernelspec": {
   "display_name": "Python 3",
   "language": "python",
   "name": "python3"
  },
  "language_info": {
   "codemirror_mode": {
    "name": "ipython",
    "version": 3
   },
   "file_extension": ".py",
   "mimetype": "text/x-python",
   "name": "python",
   "nbconvert_exporter": "python",
   "pygments_lexer": "ipython3",
   "version": "3.7.4"
  }
 },
 "nbformat": 4,
 "nbformat_minor": 2
}
