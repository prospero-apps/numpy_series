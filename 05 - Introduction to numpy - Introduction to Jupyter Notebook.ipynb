{
 "cells": [
  {
   "cell_type": "markdown",
   "metadata": {},
   "source": [
    "The Jupyter Notebook is a web application in which Python code can be written and executed through a web browser. It's used to run your code, collect the output produced by your code and embed text, graphics, videos, figures and equations, all in one document.\n",
    "\n",
    "In Jupyter we have a frontend and a backend. The frontend is the user interface, so actually the Notebook. It takes care of entering and organizing code and other stuff and of presenting the results of computations to the user.\n",
    "\n",
    "The backend is known as the kernel. It performs the computations and maintains the state of the interpreter. There may be multiple kernels, for example for different programming languages or different versions of Python. \n",
    "\n",
    "\n",
    "In order to launch Jupyter Notebook, just type:\n",
    "\n",
    ">jupyter notebook\n",
    "\n",
    "in the console. \n",
    "\n",
    "\n",
    "This will start a notebook kernel and the web application on localhost, port 8888 by default, so you can access it under the address http://localhost:8888/ in your web browser. \n",
    "\n",
    "On your dashboard page you can see all the notebooks stored in the directory from where Jupyter Notebook was launched. The notebooks are stored in json format with the ipynb extension.\n",
    "\n",
    "You can now open any of them or start a new one.\n",
    "\n",
    "Let's create a new notebook. Click the New button. Now you can change the title to something meaningful by clicking on the title field. Now we are ready to enter some text, be it Python code or plain text. The notebook consists of input and output cells. There are several types of cells. You can set the type of a cell in the Cell menu. It can be code, markdown, and so on.\n",
    "\n",
    "We're going to work with code cells most of the time. You can enter one or several lines of Python code in a code input cell and then press Shift+Enter to execute it. The code is sent to the kernel process, where it's evaluated by the Python interpreter and if there is any output, it's sent back to the output cell.\n",
    "\n",
    "Let's try it out:"
   ]
  },
  {
   "cell_type": "code",
   "execution_count": null,
   "metadata": {},
   "outputs": [],
   "source": [
    "a = 5\n",
    "b = 'a'\n",
    "\n",
    "print(a * b)"
   ]
  },
  {
   "cell_type": "markdown",
   "metadata": {},
   "source": [
    "A markdown cell contains text interpreted using the markdown language. This text may be italicized, bold or formatted in a different way. The markup rules of the markdown language are however beyond the scope of this course.\n",
    "\n",
    "The cells can be in one of two modes: edit mode and command mode. The former lets you edit the contents of the cell. In order to enter edit mode, just click the cell or press Enter. You can leave edit mode by presiing escape. You also leave edit mode when you execute the cell by presiing Shift+Enter.\n",
    "\n",
    "You can tell whether you're in edit mode or command mode by the color of the cell as well: green means edit mode, blue means command mode. \n",
    "\n",
    "You can manipulate the cells using the menu or keyboard shortcuts. In particular, you can insert cells below or above the currently selected cell, you can delete a cell, copy and paste it, convert it to a different type, and so on. You can move between cells in command mode using the up and down arrows.\n",
    "\n",
    "Here are some useful shortcuts for the most common operations. Try them out:\n",
    "\n",
    "b - insert a new cell below \n",
    "a - insert a new cell above\n",
    "dd - delete the cell\n",
    "x - cut the cell\n",
    "c - copy the cell\n",
    "v - paste the cell\n",
    "m - convert to markdown\n",
    "y - convert to code\n",
    "Up arrow - select the previous cell\n",
    "Down arrow - select the next cell\n",
    "Enter - enter edit mode\n",
    "Escape - exit edit mode\n",
    "Shift-Enter - execute the cell\n",
    "h - display a help window with a list of all available keyboard shortcuts\n",
    "s - save the notebook\n",
    "\n",
    "When you're done with the current session in your notebook, save it and close it. You can do it through the File menu. Then you can quit the application by pressing the Quit button."
   ]
  }
 ],
 "metadata": {
  "kernelspec": {
   "display_name": "Python 3",
   "language": "python",
   "name": "python3"
  },
  "language_info": {
   "codemirror_mode": {
    "name": "ipython",
    "version": 3
   },
   "file_extension": ".py",
   "mimetype": "text/x-python",
   "name": "python",
   "nbconvert_exporter": "python",
   "pygments_lexer": "ipython3",
   "version": "3.7.4"
  }
 },
 "nbformat": 4,
 "nbformat_minor": 2
}
