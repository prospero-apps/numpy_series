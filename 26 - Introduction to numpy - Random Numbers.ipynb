{
 "cells": [
  {
   "cell_type": "markdown",
   "metadata": {},
   "source": [
    "numpy provides a vast functionality for random numbers. The function we're going to need are in the np.random module. There are lots of them, let's just have a look at some."
   ]
  },
  {
   "cell_type": "code",
   "execution_count": 4,
   "metadata": {},
   "outputs": [
    {
     "data": {
      "text/plain": [
       "0.6637812970161031"
      ]
     },
     "execution_count": 4,
     "metadata": {},
     "output_type": "execute_result"
    }
   ],
   "source": [
    "import numpy as np\n",
    "\n",
    "# Let's start with np.random.random, which returns uniformly distributed floats between 0 and 1 (but not including 1)\n",
    "np.random.random()"
   ]
  },
  {
   "cell_type": "code",
   "execution_count": 46,
   "metadata": {},
   "outputs": [
    {
     "data": {
      "text/plain": [
       "array([0.02306243, 0.52477466, 0.39986097, 0.04666566, 0.97375552,\n",
       "       0.23277134])"
      ]
     },
     "execution_count": 46,
     "metadata": {},
     "output_type": "execute_result"
    }
   ],
   "source": [
    "# We can pass an integer to the function. This will create a 1-dimensional array with as many elements as the integer.\n",
    "np.random.random(6)"
   ]
  },
  {
   "cell_type": "code",
   "execution_count": 24,
   "metadata": {},
   "outputs": [
    {
     "data": {
      "text/plain": [
       "array([[0.61324446, 0.92798142, 0.71759513],\n",
       "       [0.32386582, 0.35608486, 0.67874322],\n",
       "       [0.5662589 , 0.27354633, 0.06695727],\n",
       "       [0.49163763, 0.21702818, 0.81779189],\n",
       "       [0.80740763, 0.79961316, 0.86711246]])"
      ]
     },
     "execution_count": 24,
     "metadata": {},
     "output_type": "execute_result"
    }
   ],
   "source": [
    "# We can also pass the shape of an array to create a multidimensional array with random values:\n",
    "np.random.random((5, 3))"
   ]
  },
  {
   "cell_type": "code",
   "execution_count": 9,
   "metadata": {},
   "outputs": [
    {
     "data": {
      "text/plain": [
       "5"
      ]
     },
     "execution_count": 9,
     "metadata": {},
     "output_type": "execute_result"
    }
   ],
   "source": [
    "# If you need a random integer, use np.random.randint. Let's find a random number between 3 and 6, the latter being exclusive.\n",
    "np.random.randint(3, 6)"
   ]
  },
  {
   "cell_type": "code",
   "execution_count": 19,
   "metadata": {},
   "outputs": [
    {
     "data": {
      "text/plain": [
       "2"
      ]
     },
     "execution_count": 19,
     "metadata": {},
     "output_type": "execute_result"
    }
   ],
   "source": [
    "# If you pass just one value, you'll get a random integer between 0 and that value (also exclusive)\n",
    "np.random.randint(3)"
   ]
  },
  {
   "cell_type": "code",
   "execution_count": 20,
   "metadata": {},
   "outputs": [
    {
     "data": {
      "text/plain": [
       "array([[20, 14, 19, 11, 18],\n",
       "       [15, 20, 17, 13, 10],\n",
       "       [17, 20, 13, 20, 14],\n",
       "       [18, 13, 16, 11, 11]])"
      ]
     },
     "execution_count": 20,
     "metadata": {},
     "output_type": "execute_result"
    }
   ],
   "source": [
    "# And now let's create a 4 x 5 array of integers between 10 and 20:\n",
    "np.random.randint(10, 21, (4, 5))"
   ]
  },
  {
   "cell_type": "code",
   "execution_count": 26,
   "metadata": {},
   "outputs": [
    {
     "data": {
      "text/plain": [
       "array([[[0.55597754, 0.44381172, 0.16455908],\n",
       "        [0.00231127, 0.15472743, 0.99403601]],\n",
       "\n",
       "       [[0.652406  , 0.36579183, 0.12818295],\n",
       "        [0.84744186, 0.17374748, 0.92257383]],\n",
       "\n",
       "       [[0.84129489, 0.79710847, 0.90442657],\n",
       "        [0.41670601, 0.09303319, 0.25975573]],\n",
       "\n",
       "       [[0.05928313, 0.63373176, 0.6587817 ],\n",
       "        [0.35615422, 0.23543988, 0.57931781]]])"
      ]
     },
     "execution_count": 26,
     "metadata": {},
     "output_type": "execute_result"
    }
   ],
   "source": [
    "# The np.random.rand function is used if you need an array of floats between 0 and 1 (exclusive) of a given shape.\n",
    "# You just pass the dimensions along all the axes as arguments. Now, let's create a 3-dimensional array of floats:\n",
    "np.random.rand(4, 2, 3)"
   ]
  },
  {
   "cell_type": "code",
   "execution_count": 38,
   "metadata": {},
   "outputs": [
    {
     "name": "stdout",
     "output_type": "stream",
     "text": [
      "[ 94 100  82  97  90   7  62  27   6   1  87   3]\n",
      "[53 42 45 95 15 53 66 62 80 25 53 17]\n",
      "[29 56 86 78 92 74 90 32 55 66 43 90]\n",
      "[54 80 98 49 22 87 37 38 51  1 93 28]\n",
      "[94 44 88 59 83 27 97 53 87 11 15 35]\n"
     ]
    }
   ],
   "source": [
    "# Now let's use the np.random.randint function again. We could use any of the other functions as well. If we execute the code \n",
    "# multiple times, the result may be different each time. Here's a 1-dimensional array of 12 random integers between 1 and 100.\n",
    "# Let's call the function 5 times. The results will be different each time.\n",
    "print(np.random.randint(1, 101, 12))\n",
    "print(np.random.randint(1, 101, 12))\n",
    "print(np.random.randint(1, 101, 12))\n",
    "print(np.random.randint(1, 101, 12))\n",
    "print(np.random.randint(1, 101, 12))"
   ]
  },
  {
   "cell_type": "code",
   "execution_count": 44,
   "metadata": {},
   "outputs": [
    {
     "name": "stdout",
     "output_type": "stream",
     "text": [
      "[83 88 17 99 24 59 29 94 93 43 47  7]\n",
      "[ 52  93  15  72  61  21  83  87  75  75  88 100]\n",
      "[83 88 17 99 24 59 29 94 93 43 47  7]\n",
      "[ 52  93  15  72  61  21  83  87  75  75  88 100]\n",
      "[ 52  93  15  72  61  21  83  87  75  75  88 100]\n"
     ]
    }
   ],
   "source": [
    "# If you want the numbers to be the same each time, you have to reseed the generator. To this end you should use the function\n",
    "# np.random.seed with an integer argument. Here we'll reseed the generator with two different integers. Watch the results.\n",
    "\n",
    "np.random.seed(31)\n",
    "print(np.random.randint(1, 101, 12))\n",
    "np.random.seed(42)\n",
    "print(np.random.randint(1, 101, 12))\n",
    "np.random.seed(31)\n",
    "print(np.random.randint(1, 101, 12))\n",
    "np.random.seed(42)\n",
    "print(np.random.randint(1, 101, 12))\n",
    "np.random.seed(42)\n",
    "print(np.random.randint(1, 101, 12))"
   ]
  },
  {
   "cell_type": "markdown",
   "metadata": {},
   "source": [
    "EXERCISE\n",
    "\n",
    "The np.random.random function returns floats between 0 and 1. Use it along with some other necessary operations so that you create a 1-dimensional array of 10 random floats between 5 and 6 (exclusive).\n",
    "\n",
    "SOLUTION"
   ]
  },
  {
   "cell_type": "code",
   "execution_count": 47,
   "metadata": {},
   "outputs": [
    {
     "data": {
      "text/plain": [
       "array([5.09060643, 5.61838601, 5.38246199, 5.98323089, 5.46676289,\n",
       "       5.85994041, 5.68030754, 5.45049925, 5.01326496, 5.94220176])"
      ]
     },
     "execution_count": 47,
     "metadata": {},
     "output_type": "execute_result"
    }
   ],
   "source": [
    "5 + np.random.random(10)"
   ]
  }
 ],
 "metadata": {
  "kernelspec": {
   "display_name": "Python 3",
   "language": "python",
   "name": "python3"
  },
  "language_info": {
   "codemirror_mode": {
    "name": "ipython",
    "version": 3
   },
   "file_extension": ".py",
   "mimetype": "text/x-python",
   "name": "python",
   "nbconvert_exporter": "python",
   "pygments_lexer": "ipython3",
   "version": "3.7.4"
  }
 },
 "nbformat": 4,
 "nbformat_minor": 2
}
