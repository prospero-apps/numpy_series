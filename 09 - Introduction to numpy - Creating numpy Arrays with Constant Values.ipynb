{
 "cells": [
  {
   "cell_type": "markdown",
   "metadata": {},
   "source": [
    "We've been creating numpy arrays using the np.array function and passing a list of elements to it as an argument. Here are some examples:"
   ]
  },
  {
   "cell_type": "code",
   "execution_count": 2,
   "metadata": {},
   "outputs": [
    {
     "name": "stdout",
     "output_type": "stream",
     "text": [
      "[1 2 3]\n"
     ]
    }
   ],
   "source": [
    "import numpy as np\n",
    "A = np.array([1, 2, 3])\n",
    "print(A)"
   ]
  },
  {
   "cell_type": "markdown",
   "metadata": {},
   "source": [
    "or like this:"
   ]
  },
  {
   "cell_type": "code",
   "execution_count": 3,
   "metadata": {},
   "outputs": [
    {
     "name": "stdout",
     "output_type": "stream",
     "text": [
      "[[3.6 2.9]\n",
      " [0.9 7.2]]\n"
     ]
    }
   ],
   "source": [
    "b = [[3.6, 2.9], [.9, 7.2]]\n",
    "B = np.array(b)\n",
    "print(B)"
   ]
  },
  {
   "cell_type": "markdown",
   "metadata": {},
   "source": [
    "We can use the array function also with tuples:"
   ]
  },
  {
   "cell_type": "code",
   "execution_count": 5,
   "metadata": {},
   "outputs": [
    {
     "name": "stdout",
     "output_type": "stream",
     "text": [
      "[4 6 9]\n"
     ]
    }
   ],
   "source": [
    "c = (4, 6, 9)\n",
    "\n",
    "C = np.array(c)\n",
    "\n",
    "print(C)"
   ]
  },
  {
   "cell_type": "markdown",
   "metadata": {},
   "source": [
    "But sometimes we need arrays containing specific data, like constant values, increasing or decreasing values, uniformly spaced numbers, random numbers and so on. To this end we can use quite a lot of functions besides the basic np.array function we've been using so far. Let's have a look at some of the most frequently used ones.\n",
    "\n",
    "If we need an array where all the elements have constant values, we can use one of the following functions:\n",
    "\n",
    "- np.zeros - if all the elements should be zeros\n",
    "- np.ones - if we need an array of ones\n",
    "- np.full - if we need a constant value different than 0 or 1\n",
    "- the fill method - if we want to fill an array that already exists with some constant values\n",
    "\n",
    "Here's how we can use these functions:"
   ]
  },
  {
   "cell_type": "code",
   "execution_count": 6,
   "metadata": {},
   "outputs": [
    {
     "name": "stdout",
     "output_type": "stream",
     "text": [
      "[[[0. 0.]\n",
      "  [0. 0.]\n",
      "  [0. 0.]\n",
      "  [0. 0.]\n",
      "  [0. 0.]]\n",
      "\n",
      " [[0. 0.]\n",
      "  [0. 0.]\n",
      "  [0. 0.]\n",
      "  [0. 0.]\n",
      "  [0. 0.]]\n",
      "\n",
      " [[0. 0.]\n",
      "  [0. 0.]\n",
      "  [0. 0.]\n",
      "  [0. 0.]\n",
      "  [0. 0.]]]\n"
     ]
    }
   ],
   "source": [
    "# a 3-dimensional array (3x5x2) filled with zeros\n",
    "D = np.zeros((3, 5, 2))\n",
    "print(D)"
   ]
  },
  {
   "cell_type": "code",
   "execution_count": 7,
   "metadata": {},
   "outputs": [
    {
     "name": "stdout",
     "output_type": "stream",
     "text": [
      "[1. 1. 1. 1. 1. 1. 1. 1. 1. 1. 1. 1. 1. 1. 1. 1. 1. 1. 1. 1. 1. 1. 1. 1.\n",
      " 1.]\n"
     ]
    }
   ],
   "source": [
    "# a 1-dimensional array of 25 ones\n",
    "E = np.ones(25)\n",
    "print(E)"
   ]
  },
  {
   "cell_type": "code",
   "execution_count": 9,
   "metadata": {},
   "outputs": [
    {
     "name": "stdout",
     "output_type": "stream",
     "text": [
      "[[5.7 5.7 5.7]\n",
      " [5.7 5.7 5.7]\n",
      " [5.7 5.7 5.7]\n",
      " [5.7 5.7 5.7]\n",
      " [5.7 5.7 5.7]\n",
      " [5.7 5.7 5.7]\n",
      " [5.7 5.7 5.7]]\n"
     ]
    }
   ],
   "source": [
    "# a 2-dimensional array (7x3) where each element is set to 5.7\n",
    "F = np.full((7, 3), 5.7)\n",
    "print(F)"
   ]
  },
  {
   "cell_type": "markdown",
   "metadata": {},
   "source": [
    "We can also create an empty array using the np.empty function and then fill it with constant values. The empty function creates an array with uninitialized elements. Let's create one, check the data it contains and then fill it with elements set to 5. By the way, the data in the empty array may be different than presented here, it's accidental."
   ]
  },
  {
   "cell_type": "code",
   "execution_count": 12,
   "metadata": {},
   "outputs": [
    {
     "name": "stdout",
     "output_type": "stream",
     "text": [
      "[[ 0.00000000e+000  0.00000000e+000  0.00000000e+000  0.00000000e+000\n",
      "   0.00000000e+000]\n",
      " [-1.08648420e-310  0.00000000e+000  0.00000000e+000  0.00000000e+000\n",
      "   0.00000000e+000]\n",
      " [ 0.00000000e+000  0.00000000e+000  0.00000000e+000 -2.06429988e-310\n",
      "   0.00000000e+000]\n",
      " [ 0.00000000e+000  0.00000000e+000 -1.84700751e-310  4.67296746e-307\n",
      "   1.69121096e-306]]\n",
      "[[5. 5. 5. 5. 5.]\n",
      " [5. 5. 5. 5. 5.]\n",
      " [5. 5. 5. 5. 5.]\n",
      " [5. 5. 5. 5. 5.]]\n"
     ]
    }
   ],
   "source": [
    "G = np.empty((4, 5))\n",
    "print(G)\n",
    "G.fill(5)\n",
    "print(G)"
   ]
  },
  {
   "cell_type": "markdown",
   "metadata": {},
   "source": [
    "There are also functions that create arrays filled with zeros, ones, other constant values or unitialized values based on other arrays, so they take the shape and data type after other arrays but the elements they contain are different. The functions are called np.zeros_like, np.ones_like, np.full_like and np.empty_like. Let's have a look at them in action:"
   ]
  },
  {
   "cell_type": "code",
   "execution_count": 34,
   "metadata": {},
   "outputs": [
    {
     "name": "stdout",
     "output_type": "stream",
     "text": [
      "[[4 3]\n",
      " [2 8]]\n",
      "[0.9 1.2 3.2 2.2 4.  5.2 5.4 0.7]\n",
      "[[0 0]\n",
      " [0 0]]\n",
      "[0. 0. 0. 0. 0. 0. 0. 0.]\n",
      "[[1 1]\n",
      " [1 1]]\n",
      "[1. 1. 1. 1. 1. 1. 1. 1.]\n",
      "[[3 3]\n",
      " [3 3]]\n",
      "[3. 3. 3. 3. 3. 3. 3. 3.]\n"
     ]
    }
   ],
   "source": [
    "# Here's a 2-dimensional array of ints and a 1-dimensional array of floats.\n",
    "H = np.array([[4, 3], [2, 8]])\n",
    "I = np.array([.9, 1.2, 3.2, 2.2, 4., 5.2, 5.4, .7])\n",
    "\n",
    "print(H)\n",
    "print(I)\n",
    "\n",
    "# Now let's create some arrays that have the same shapes and data types as the two arrays above.\n",
    "# First two arrays that should be filled with zeros.\n",
    "print(np.zeros_like(H))\n",
    "print(np.zeros_like(I))\n",
    "\n",
    "# Then two arrays that should be filled with ones.\n",
    "print(np.ones_like(H))\n",
    "print(np.ones_like(I))\n",
    "\n",
    "# Finally two arrays that should be filled with 3.\n",
    "print(np.full_like(H, 3))\n",
    "print(np.full_like(I, 3))\n"
   ]
  },
  {
   "cell_type": "markdown",
   "metadata": {},
   "source": [
    "EXERCISE\n",
    "\n",
    "Create an 2-dimensional 5x4 zero-filled array and then another array with all elements set to 2.5. Use one of the _like functions mentioned above.\n",
    "\n",
    "Print the two arrays out.\n",
    "\n",
    "\n",
    "SOLUTION"
   ]
  },
  {
   "cell_type": "code",
   "execution_count": 35,
   "metadata": {},
   "outputs": [
    {
     "name": "stdout",
     "output_type": "stream",
     "text": [
      "[[0. 0. 0. 0.]\n",
      " [0. 0. 0. 0.]\n",
      " [0. 0. 0. 0.]\n",
      " [0. 0. 0. 0.]\n",
      " [0. 0. 0. 0.]]\n",
      "[[2.5 2.5 2.5 2.5]\n",
      " [2.5 2.5 2.5 2.5]\n",
      " [2.5 2.5 2.5 2.5]\n",
      " [2.5 2.5 2.5 2.5]\n",
      " [2.5 2.5 2.5 2.5]]\n"
     ]
    }
   ],
   "source": [
    "X = np.zeros((5, 4))\n",
    "print(X)\n",
    "\n",
    "Y = np.full_like(X, 2.5)\n",
    "print(Y)"
   ]
  }
 ],
 "metadata": {
  "kernelspec": {
   "display_name": "Python 3",
   "language": "python",
   "name": "python3"
  },
  "language_info": {
   "codemirror_mode": {
    "name": "ipython",
    "version": 3
   },
   "file_extension": ".py",
   "mimetype": "text/x-python",
   "name": "python",
   "nbconvert_exporter": "python",
   "pygments_lexer": "ipython3",
   "version": "3.7.4"
  }
 },
 "nbformat": 4,
 "nbformat_minor": 2
}
