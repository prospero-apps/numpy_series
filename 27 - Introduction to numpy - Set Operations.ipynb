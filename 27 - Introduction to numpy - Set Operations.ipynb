{
 "cells": [
  {
   "cell_type": "markdown",
   "metadata": {},
   "source": [
    "In Python if we need a collection where all elements are unique, we use sets. In numpy we can also make all the elements in an array unique and then we can work on it like on a set. In order to make an array unique, we use the np.unique function. It also sorts the array. Here's an example."
   ]
  },
  {
   "cell_type": "code",
   "execution_count": 3,
   "metadata": {},
   "outputs": [
    {
     "data": {
      "text/plain": [
       "array([1, 2, 3, 4, 7])"
      ]
     },
     "execution_count": 3,
     "metadata": {},
     "output_type": "execute_result"
    }
   ],
   "source": [
    "import numpy as np\n",
    "\n",
    "# First let's create an array with repetitive values.\n",
    "A = np.array([7, 4, 4, 2, 7, 1, 7, 4, 3])\n",
    "\n",
    "# And now let's make a set of it:\n",
    "B = np.unique(A)\n",
    "B"
   ]
  },
  {
   "cell_type": "code",
   "execution_count": 6,
   "metadata": {},
   "outputs": [
    {
     "data": {
      "text/plain": [
       "array([1, 2, 3, 5, 9])"
      ]
     },
     "execution_count": 6,
     "metadata": {},
     "output_type": "execute_result"
    }
   ],
   "source": [
    "# Naturally we can also create a set array like this in one step:\n",
    "C = np.unique([5, 2, 3, 9, 2, 3, 1, 5, 2])\n",
    "C"
   ]
  },
  {
   "cell_type": "markdown",
   "metadata": {},
   "source": [
    "We can check whether the elements of an array are enclosed in another array. We can use the function np.in1d and pass the two arrays to it."
   ]
  },
  {
   "cell_type": "code",
   "execution_count": 12,
   "metadata": {},
   "outputs": [
    {
     "data": {
      "text/plain": [
       "array([ True,  True,  True, False, False])"
      ]
     },
     "execution_count": 12,
     "metadata": {},
     "output_type": "execute_result"
    }
   ],
   "source": [
    "# First let's check whether array B is enclosed in array C. This works elementwise, so we'll get True for the elements of B\n",
    "# which are in C and False for those which aren't.\n",
    "np.in1d(B, C)"
   ]
  },
  {
   "cell_type": "markdown",
   "metadata": {},
   "source": [
    "There are also functions for typical set operations: "
   ]
  },
  {
   "cell_type": "code",
   "execution_count": 14,
   "metadata": {},
   "outputs": [
    {
     "data": {
      "text/plain": [
       "array([1, 2, 3])"
      ]
     },
     "execution_count": 14,
     "metadata": {},
     "output_type": "execute_result"
    }
   ],
   "source": [
    "# If we want to find the intersection of two arrays, we can use the np.intersect1d function. \n",
    "# This will return the elements which are in both arrays. \n",
    "\n",
    "# Let's see which elements are in both B and C:\n",
    "np.intersect1d(B, C)"
   ]
  },
  {
   "cell_type": "code",
   "execution_count": 15,
   "metadata": {},
   "outputs": [
    {
     "data": {
      "text/plain": [
       "array([4, 7])"
      ]
     },
     "execution_count": 15,
     "metadata": {},
     "output_type": "execute_result"
    }
   ],
   "source": [
    "# We can use the np.setdiff1d function to find the difference of two sets. The difference contains all the elements which are\n",
    "# in the first array but not in the other. So, the difference of B and C is:\n",
    "\n",
    "np.setdiff1d(B, C)"
   ]
  },
  {
   "cell_type": "code",
   "execution_count": 16,
   "metadata": {},
   "outputs": [
    {
     "data": {
      "text/plain": [
       "array([5, 9])"
      ]
     },
     "execution_count": 16,
     "metadata": {},
     "output_type": "execute_result"
    }
   ],
   "source": [
    "# and the difference of C and B is:\n",
    "np.setdiff1d(C, B)"
   ]
  },
  {
   "cell_type": "code",
   "execution_count": 17,
   "metadata": {},
   "outputs": [
    {
     "data": {
      "text/plain": [
       "array([1, 2, 3, 4, 5, 7, 9])"
      ]
     },
     "execution_count": 17,
     "metadata": {},
     "output_type": "execute_result"
    }
   ],
   "source": [
    "# Finally, to find the union of two sets, so the elements which can be found in at least one of the sets, \n",
    "# we can use the function np.union1d:\n",
    "np.union1d(B, C)"
   ]
  },
  {
   "cell_type": "markdown",
   "metadata": {},
   "source": [
    "EXERCISE\n",
    "\n",
    "Here we have two arrays:\n",
    "\n",
    "X = np.array([2, 3, 6])\n",
    "Y = np.array([1, 2, 3, 4, 5, 6, 7])\n",
    "\n",
    "Find out, using appropriate numpy functions, if set X is a subset of Y.\n",
    "\n",
    "Hint: set a is a subset of set b if all elements of a are in b.\n",
    "\n",
    "SOLUTION"
   ]
  },
  {
   "cell_type": "code",
   "execution_count": 18,
   "metadata": {},
   "outputs": [
    {
     "data": {
      "text/plain": [
       "True"
      ]
     },
     "execution_count": 18,
     "metadata": {},
     "output_type": "execute_result"
    }
   ],
   "source": [
    "X = np.array([2, 3, 6])\n",
    "Y = np.array([1, 2, 3, 4, 5, 6, 7])\n",
    "\n",
    "np.all(np.in1d(X, Y))"
   ]
  }
 ],
 "metadata": {
  "kernelspec": {
   "display_name": "Python 3",
   "language": "python",
   "name": "python3"
  },
  "language_info": {
   "codemirror_mode": {
    "name": "ipython",
    "version": 3
   },
   "file_extension": ".py",
   "mimetype": "text/x-python",
   "name": "python",
   "nbconvert_exporter": "python",
   "pygments_lexer": "ipython3",
   "version": "3.7.4"
  }
 },
 "nbformat": 4,
 "nbformat_minor": 2
}
