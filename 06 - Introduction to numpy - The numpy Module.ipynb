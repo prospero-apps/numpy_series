{
 "cells": [
  {
   "cell_type": "markdown",
   "metadata": {},
   "source": [
    "If we want to use Python in science, there is one module all other scientific module make use of, numpy. numpy lets us work on arrays, which in turn lets us repeat computations for a set of values in one go without using the slow for loops that work on each element one by one. \n",
    "\n",
    "Essentially we can work on scalars and arrays. Scalars are just numbers. Arrays may have 1 dimension (we often call them vectors then), 2 dimensions (then we often refer to them as matrices) or any other number of dimensions.\n",
    "\n",
    "Before going any further in theory, let's just jump into some code. The first thing we have to do is import the numpy module. We almost always import it using the alias np.\n",
    "\n",
    "Then we can create a simple numpy array. We'll be talking about all the different ways of creating numpy arrays soon, for now let's just use the array function and pass a list of integers as an argument to it.\n",
    "\n",
    "Let's print it out and then let's make a simple computation. If we multiply the array by 5, the operation will be performed on all elements:\n"
   ]
  },
  {
   "cell_type": "code",
   "execution_count": 2,
   "metadata": {},
   "outputs": [
    {
     "name": "stdout",
     "output_type": "stream",
     "text": [
      "[1 2 3 4 5]\n",
      "[ 5 10 15 20 25]\n"
     ]
    }
   ],
   "source": [
    "import numpy as np\n",
    "A = np.array([1, 2, 3, 4, 5])\n",
    "print(A)\n",
    "print(5 * A)"
   ]
  },
  {
   "cell_type": "markdown",
   "metadata": {},
   "source": [
    "This way of performing operations is called vectorization. It's very efficient. We don't need any for loops to perform the operations sequentially on each element.\n",
    "\n",
    "Using numpy in scientific programming is generally much faster and more efficient than using pure Python. Vectorization is one of the reasons. Here are some basic features of numpy arrays:\n",
    "\n",
    "- the core of numpy is implemented in C, which works much faster than Python\n",
    "- numpy arrays are homogenous and typed, which means all elements in an array are of the same type, like all ints or all floats for example\n",
    "- numpy arrays have a fixed size, so they can't be resized once created without creating a new array.\n",
    "\n",
    "The numpy module also provides lots of operators and functions to to work with the arrays. We'll have a look at just a tiny selection of them in this course.\n"
   ]
  },
  {
   "cell_type": "markdown",
   "metadata": {},
   "source": [
    "EXERCISE\n",
    "\n",
    "Create a numpy array that contains the following numbers: 10, 5, 2 and assign it to B.\n",
    "Add 1 to each element and print out the result. Don't forget to import the numpy module in the first place and use the commonly used alias for it.\n",
    "\n",
    "SOLUTION"
   ]
  },
  {
   "cell_type": "code",
   "execution_count": 3,
   "metadata": {},
   "outputs": [
    {
     "name": "stdout",
     "output_type": "stream",
     "text": [
      "[11  6  3]\n"
     ]
    }
   ],
   "source": [
    "import numpy as np\n",
    "B = np.array([10, 5, 2])\n",
    "print(B + 1)"
   ]
  }
 ],
 "metadata": {
  "kernelspec": {
   "display_name": "Python 3",
   "language": "python",
   "name": "python3"
  },
  "language_info": {
   "codemirror_mode": {
    "name": "ipython",
    "version": 3
   },
   "file_extension": ".py",
   "mimetype": "text/x-python",
   "name": "python",
   "nbconvert_exporter": "python",
   "pygments_lexer": "ipython3",
   "version": "3.7.4"
  }
 },
 "nbformat": 4,
 "nbformat_minor": 2
}
