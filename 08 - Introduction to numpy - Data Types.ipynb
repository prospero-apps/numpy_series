{
 "cells": [
  {
   "cell_type": "markdown",
   "metadata": {},
   "source": [
    "In the previous lecture we were using the dtype attribute of the ndarray class to check the data type of the elements in the array. We know that all elements of a numpy array are of the same type, unlike in a regular Python list, where the elements may but don't have to be of the same type.\n",
    "\n",
    "Let's create an array and use the attribute again to check the data type:"
   ]
  },
  {
   "cell_type": "code",
   "execution_count": 2,
   "metadata": {},
   "outputs": [
    {
     "name": "stdout",
     "output_type": "stream",
     "text": [
      "int32\n"
     ]
    }
   ],
   "source": [
    "import numpy as np\n",
    "A = np.array([4, 2, 7])\n",
    "print(A.dtype)"
   ]
  },
  {
   "cell_type": "markdown",
   "metadata": {},
   "source": [
    "Here the elements are 32-bit integers. Let's try this array:"
   ]
  },
  {
   "cell_type": "code",
   "execution_count": 3,
   "metadata": {},
   "outputs": [
    {
     "name": "stdout",
     "output_type": "stream",
     "text": [
      "float64\n"
     ]
    }
   ],
   "source": [
    "B = np.array([.2, .4, 2.1])\n",
    "print(B.dtype)"
   ]
  },
  {
   "cell_type": "markdown",
   "metadata": {},
   "source": [
    "Now they are 64-bit floating point numbers.\n",
    "\n",
    "Here's another one:"
   ]
  },
  {
   "cell_type": "code",
   "execution_count": 4,
   "metadata": {},
   "outputs": [
    {
     "name": "stdout",
     "output_type": "stream",
     "text": [
      "complex128\n"
     ]
    }
   ],
   "source": [
    "C = np.array([2.1+3.j, 1.+2.8j])\n",
    "print(C.dtype)"
   ]
  },
  {
   "cell_type": "markdown",
   "metadata": {},
   "source": [
    "Now we have 128-bit complex numbers. And now let's try this one out:"
   ]
  },
  {
   "cell_type": "code",
   "execution_count": 6,
   "metadata": {},
   "outputs": [
    {
     "name": "stdout",
     "output_type": "stream",
     "text": [
      "complex128\n"
     ]
    }
   ],
   "source": [
    "D = np.array([3, 2.4, 2.8+1.2j])\n",
    "print(D.dtype)"
   ]
  },
  {
   "cell_type": "markdown",
   "metadata": {},
   "source": [
    "As you can see, if we try to put an integer, a float and a complex number in a numpy array, they will all be upcast to a complex number because both integers and floats can be easily converted to complex numbers."
   ]
  },
  {
   "cell_type": "markdown",
   "metadata": {},
   "source": [
    "The main numerical data types that we can use in numpy are signed and unsigned integers like int8, int16, int32, int64, uint8, uint16, uint32, uint64, floats like float16, float32, float64, complex numbers like complex64, complex128, complex256 and bools. The numbers tell us how many bits are needed to represent a number of this type.\n",
    "\n",
    "Apart from this, we can use nonnumerical types as well, like strings, objects or user-defined types. For now, however, we'll concentrate on the numerical types.\n",
    "\n",
    "So, what if we want to create an array of 8-bit unsigned integers? These are nonnegative integers that can be represented on 8 bits. Let's try:"
   ]
  },
  {
   "cell_type": "code",
   "execution_count": 7,
   "metadata": {},
   "outputs": [
    {
     "name": "stdout",
     "output_type": "stream",
     "text": [
      "int32\n"
     ]
    }
   ],
   "source": [
    "E = np.array([1, 2, 3])\n",
    "print(E.dtype)"
   ]
  },
  {
   "cell_type": "markdown",
   "metadata": {},
   "source": [
    "Well, the elements 1, 2 and 3 can be definitely interpreted as unsigned 8-bit integers because they are nonnegative and 8 bits is more than enough to represent them. However, as we can see, they are treated as 32-bit signed integers. \n",
    "\n",
    "If we really want them to be of a specific data type, we can make them be of this type by passing the dtype argument to the array constructor. So, in our case:"
   ]
  },
  {
   "cell_type": "code",
   "execution_count": 8,
   "metadata": {},
   "outputs": [
    {
     "name": "stdout",
     "output_type": "stream",
     "text": [
      "uint8\n"
     ]
    }
   ],
   "source": [
    "E = np.array([1, 2, 3], dtype = np.uint8)\n",
    "print(E.dtype)"
   ]
  },
  {
   "cell_type": "markdown",
   "metadata": {},
   "source": [
    "Another example. Let's create an array of 64-bit floats:"
   ]
  },
  {
   "cell_type": "code",
   "execution_count": 10,
   "metadata": {},
   "outputs": [
    {
     "name": "stdout",
     "output_type": "stream",
     "text": [
      "float64\n"
     ]
    }
   ],
   "source": [
    "F = np.array([1, 2, 3], dtype = np.float64)\n",
    "print(F.dtype)"
   ]
  },
  {
   "cell_type": "markdown",
   "metadata": {},
   "source": [
    "There's also another syntax for this:"
   ]
  },
  {
   "cell_type": "code",
   "execution_count": 16,
   "metadata": {},
   "outputs": [
    {
     "name": "stdout",
     "output_type": "stream",
     "text": [
      "float64\n"
     ]
    }
   ],
   "source": [
    "F = np.array([1, 2, 3], dtype = 'f8')\n",
    "print(F.dtype)"
   ]
  },
  {
   "cell_type": "markdown",
   "metadata": {},
   "source": [
    "Here the string 'f8' means an 8-byte float, which is the same as a 64-bit float."
   ]
  },
  {
   "cell_type": "markdown",
   "metadata": {},
   "source": [
    "We can also only generally specify that we want an integer, a float or any other type:"
   ]
  },
  {
   "cell_type": "code",
   "execution_count": 18,
   "metadata": {},
   "outputs": [
    {
     "name": "stdout",
     "output_type": "stream",
     "text": [
      "int32\n"
     ]
    }
   ],
   "source": [
    "G = np.array([1, 2, 3], int)\n",
    "print(G.dtype)"
   ]
  },
  {
   "cell_type": "markdown",
   "metadata": {},
   "source": [
    "or like this:"
   ]
  },
  {
   "cell_type": "code",
   "execution_count": 20,
   "metadata": {},
   "outputs": [
    {
     "name": "stdout",
     "output_type": "stream",
     "text": [
      "complex128\n"
     ]
    }
   ],
   "source": [
    "H = np.array([1, 2, 3], complex)\n",
    "print(H.dtype)"
   ]
  },
  {
   "cell_type": "markdown",
   "metadata": {},
   "source": [
    "We can also treat the data as boolean values, where 0 is interpreted as False and any other number as True:"
   ]
  },
  {
   "cell_type": "code",
   "execution_count": 21,
   "metadata": {
    "scrolled": true
   },
   "outputs": [
    {
     "name": "stdout",
     "output_type": "stream",
     "text": [
      "[ True False  True False  True]\n",
      "bool\n"
     ]
    }
   ],
   "source": [
    "I = np.array([5, 0, -2, 0, 7], dtype = bool)\n",
    "print(I)\n",
    "print(I.dtype)"
   ]
  },
  {
   "cell_type": "markdown",
   "metadata": {},
   "source": [
    "After we create an array, we actually cannot change the type of the elements. What we can do is typecast the array by creating a new array. We can do it like so:"
   ]
  },
  {
   "cell_type": "code",
   "execution_count": 22,
   "metadata": {},
   "outputs": [
    {
     "name": "stdout",
     "output_type": "stream",
     "text": [
      "[1. 2. 3.]\n",
      "float64\n",
      "[1.+0.j 2.+0.j 3.+0.j]\n",
      "complex128\n"
     ]
    }
   ],
   "source": [
    "J = np.array([1, 2, 3], float)\n",
    "print(J)\n",
    "print(J.dtype)\n",
    "\n",
    "J = np.array(J, dtype = complex)\n",
    "print(J)\n",
    "print(J.dtype)"
   ]
  },
  {
   "cell_type": "markdown",
   "metadata": {},
   "source": [
    "or we can use the astype method of the ndarray class:"
   ]
  },
  {
   "cell_type": "code",
   "execution_count": 23,
   "metadata": {},
   "outputs": [
    {
     "name": "stdout",
     "output_type": "stream",
     "text": [
      "[1. 2. 3.]\n",
      "float64\n",
      "[1.+0.j 2.+0.j 3.+0.j]\n",
      "complex128\n"
     ]
    }
   ],
   "source": [
    "J = np.array([1, 2, 3], float)\n",
    "print(J)\n",
    "print(J.dtype)\n",
    "\n",
    "J = J.astype(complex)\n",
    "print(J)\n",
    "print(J.dtype)"
   ]
  },
  {
   "cell_type": "markdown",
   "metadata": {},
   "source": [
    "EXERCISE\n",
    "\n",
    "Create two arrays containing the numbers 10, 20 and 30. The elements in array X should be 16-bit ints, whereas the elements in array Y should be 16-bit floats. Then use the astype method to typecast the elements in array X to the same type as the elements in array Y, without passing the type directly (i.e. don't tell the code that it should be typecast to float16, instead read the type from the Y array using an appropriate attribute).\n",
    "\n",
    "Print the arrays before and after the typecasting and the data types.\n",
    "\n",
    "SOLUTION\n"
   ]
  },
  {
   "cell_type": "code",
   "execution_count": 24,
   "metadata": {},
   "outputs": [
    {
     "name": "stdout",
     "output_type": "stream",
     "text": [
      "[10 20 30]\n",
      "int16\n",
      "[10. 20. 30.]\n",
      "float16\n",
      "[10. 20. 30.]\n",
      "float16\n"
     ]
    }
   ],
   "source": [
    "X = np.array([10, 20, 30], dtype = np.int16)\n",
    "print(X)\n",
    "print(X.dtype)\n",
    "\n",
    "Y = np.array([10, 20, 30], dtype = np.float16)\n",
    "print(Y)\n",
    "print(Y.dtype)\n",
    "\n",
    "X = X.astype(Y.dtype)\n",
    "print(X)\n",
    "print(X.dtype)"
   ]
  }
 ],
 "metadata": {
  "kernelspec": {
   "display_name": "Python 3",
   "language": "python",
   "name": "python3"
  },
  "language_info": {
   "codemirror_mode": {
    "name": "ipython",
    "version": 3
   },
   "file_extension": ".py",
   "mimetype": "text/x-python",
   "name": "python",
   "nbconvert_exporter": "python",
   "pygments_lexer": "ipython3",
   "version": "3.7.4"
  }
 },
 "nbformat": 4,
 "nbformat_minor": 2
}
