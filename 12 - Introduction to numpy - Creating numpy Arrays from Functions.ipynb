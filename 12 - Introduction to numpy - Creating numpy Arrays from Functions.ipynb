{
 "cells": [
  {
   "cell_type": "markdown",
   "metadata": {},
   "source": [
    "There is another useful way of creating numpy arrays. We can create arrays from functions. To this end we use the np.fromfunction function.\n",
    "\n",
    "This function creates an array by executing a function over each coordinate, so the number of parameters the function takes must be equal to the number of dimensions. Let's start with something simple, a 1-dimensional array:"
   ]
  },
  {
   "cell_type": "code",
   "execution_count": 5,
   "metadata": {},
   "outputs": [
    {
     "data": {
      "text/plain": [
       "array([0, 1, 2, 3, 4, 5, 6])"
      ]
     },
     "execution_count": 5,
     "metadata": {},
     "output_type": "execute_result"
    }
   ],
   "source": [
    "import numpy as np\n",
    "\n",
    "# First we need a function that takes 1 parameter, because it's going to be a 1-dimensional array:\n",
    "def f(x):\n",
    "    return x\n",
    "\n",
    "# Now let's create an array from this function. The np.fromfunction function takes the function as the first argument,\n",
    "# then the shape of the array as the second argument, and optionally we can also pass the dtype as the third argument.\n",
    "A = np.fromfunction(f, (7,), dtype = int)\n",
    "A"
   ]
  },
  {
   "cell_type": "markdown",
   "metadata": {},
   "source": [
    "So, here we have a 1-dimensional array with 7 elements. This is because the passed the shape tuple (7,) to the function. The values are the consecutive values returned by the f function.\n",
    "\n",
    "Now, let's modify our function a bit to see the difference:"
   ]
  },
  {
   "cell_type": "code",
   "execution_count": 6,
   "metadata": {},
   "outputs": [
    {
     "data": {
      "text/plain": [
       "array([ 0.5,  5.5, 10.5, 15.5, 20.5, 25.5, 30.5])"
      ]
     },
     "execution_count": 6,
     "metadata": {},
     "output_type": "execute_result"
    }
   ],
   "source": [
    "def f(x):\n",
    "    return 5 * x + 0.5\n",
    "\n",
    "B = np.fromfunction(f, (7,))\n",
    "B"
   ]
  },
  {
   "cell_type": "markdown",
   "metadata": {},
   "source": [
    "Now the function returns:\n",
    "5 * 0 + 0.5 = 0.5 for the first element,\n",
    "5 * 1 + 0.5 = 5.5 for the second element and so on."
   ]
  },
  {
   "cell_type": "markdown",
   "metadata": {},
   "source": [
    "We often use lambda functions instead of functions defined using the def keyword. Here's how we could rewrite our last example:"
   ]
  },
  {
   "cell_type": "code",
   "execution_count": 7,
   "metadata": {},
   "outputs": [
    {
     "data": {
      "text/plain": [
       "array([ 0.5,  5.5, 10.5, 15.5, 20.5, 25.5, 30.5])"
      ]
     },
     "execution_count": 7,
     "metadata": {},
     "output_type": "execute_result"
    }
   ],
   "source": [
    "C = np.fromfunction(lambda x: 5 * x + 0.5, (7,))\n",
    "C"
   ]
  },
  {
   "cell_type": "markdown",
   "metadata": {},
   "source": [
    "or, if we prefer to keep our code clear and readable, we could do it like so:"
   ]
  },
  {
   "cell_type": "code",
   "execution_count": 8,
   "metadata": {},
   "outputs": [
    {
     "data": {
      "text/plain": [
       "array([ 0.5,  5.5, 10.5, 15.5, 20.5, 25.5, 30.5])"
      ]
     },
     "execution_count": 8,
     "metadata": {},
     "output_type": "execute_result"
    }
   ],
   "source": [
    "f = lambda x: 5 * x + 0.5\n",
    "D = np.fromfunction(f, (7,))\n",
    "D"
   ]
  },
  {
   "cell_type": "markdown",
   "metadata": {},
   "source": [
    "OK, and now let's have a look at multidimensional arrays. Let's create a 2-dimesional 3x4 array:"
   ]
  },
  {
   "cell_type": "code",
   "execution_count": 10,
   "metadata": {},
   "outputs": [
    {
     "data": {
      "text/plain": [
       "array([[0, 1, 2, 3],\n",
       "       [2, 3, 4, 5],\n",
       "       [4, 5, 6, 7]])"
      ]
     },
     "execution_count": 10,
     "metadata": {},
     "output_type": "execute_result"
    }
   ],
   "source": [
    "# Here's the function we'll use. Now we need 2 parameters because there are two dimensions.\n",
    "f = lambda x, y: 2 * x + y\n",
    "\n",
    "# Now we're ready to create the array.\n",
    "E = np.fromfunction(f, (3, 4), dtype = int)\n",
    "E\n"
   ]
  },
  {
   "cell_type": "markdown",
   "metadata": {},
   "source": [
    "So, what we get is:\n",
    "\n",
    "in the first row:\n",
    "2 * 0 + 0 = 0\n",
    "2 * 0 + 1 = 1\n",
    "2 * 0 + 2 = 2\n",
    "2 * 0 + 3 = 3\n",
    "\n",
    "so the value of x is 0 for the first row. The value of x will increase along the axis, so in the consecutive rows, whereas the value of y increases along the second axis (or dimension).\n",
    "\n",
    "Now, in the second row we'll have:\n",
    "2 * 1 + 0 = 2\n",
    "2 * 1 + 1 = 3\n",
    "2 * 1 + 2 = 4\n",
    "2 * 1 + 3 = 5\n",
    "\n",
    "and so on."
   ]
  },
  {
   "cell_type": "markdown",
   "metadata": {},
   "source": [
    "EXERCISE\n",
    "\n",
    "Create a multiplication table that looks like this:\n",
    "\n",
    "array([[  1,   2,   3,   4,   5,   6,   7,   8,   9,  10],\n",
    "       [  2,   4,   6,   8,  10,  12,  14,  16,  18,  20],\n",
    "       [  3,   6,   9,  12,  15,  18,  21,  24,  27,  30],\n",
    "       [  4,   8,  12,  16,  20,  24,  28,  32,  36,  40],\n",
    "       [  5,  10,  15,  20,  25,  30,  35,  40,  45,  50],\n",
    "       [  6,  12,  18,  24,  30,  36,  42,  48,  54,  60],\n",
    "       [  7,  14,  21,  28,  35,  42,  49,  56,  63,  70],\n",
    "       [  8,  16,  24,  32,  40,  48,  56,  64,  72,  80],\n",
    "       [  9,  18,  27,  36,  45,  54,  63,  72,  81,  90],\n",
    "       [ 10,  20,  30,  40,  50,  60,  70,  80,  90, 100]])\n",
    "\n",
    "So, your task is to create a 2-dimensional 10 x 10 array where the elements are the products of the elements in the first row and column. This table should be created from a function that you must first create. Remember to start with 1, not 0 and to set the data type to integers.\n",
    "\n",
    "SOLUTION"
   ]
  },
  {
   "cell_type": "code",
   "execution_count": 12,
   "metadata": {},
   "outputs": [
    {
     "data": {
      "text/plain": [
       "array([[  1,   2,   3,   4,   5,   6,   7,   8,   9,  10],\n",
       "       [  2,   4,   6,   8,  10,  12,  14,  16,  18,  20],\n",
       "       [  3,   6,   9,  12,  15,  18,  21,  24,  27,  30],\n",
       "       [  4,   8,  12,  16,  20,  24,  28,  32,  36,  40],\n",
       "       [  5,  10,  15,  20,  25,  30,  35,  40,  45,  50],\n",
       "       [  6,  12,  18,  24,  30,  36,  42,  48,  54,  60],\n",
       "       [  7,  14,  21,  28,  35,  42,  49,  56,  63,  70],\n",
       "       [  8,  16,  24,  32,  40,  48,  56,  64,  72,  80],\n",
       "       [  9,  18,  27,  36,  45,  54,  63,  72,  81,  90],\n",
       "       [ 10,  20,  30,  40,  50,  60,  70,  80,  90, 100]])"
      ]
     },
     "execution_count": 12,
     "metadata": {},
     "output_type": "execute_result"
    }
   ],
   "source": [
    "f = lambda x, y: (x + 1) * (y + 1)\n",
    "M = np.fromfunction(f, (10, 10), dtype = int)\n",
    "M"
   ]
  }
 ],
 "metadata": {
  "kernelspec": {
   "display_name": "Python 3",
   "language": "python",
   "name": "python3"
  },
  "language_info": {
   "codemirror_mode": {
    "name": "ipython",
    "version": 3
   },
   "file_extension": ".py",
   "mimetype": "text/x-python",
   "name": "python",
   "nbconvert_exporter": "python",
   "pygments_lexer": "ipython3",
   "version": "3.7.4"
  }
 },
 "nbformat": 4,
 "nbformat_minor": 2
}
