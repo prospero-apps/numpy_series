{
 "cells": [
  {
   "cell_type": "markdown",
   "metadata": {},
   "source": [
    "Most of the functions we have been talking about up to now work on an element by element basis. Some, like the aggregation functions, either reduce arrays to scalars or flatten them to arrays of fewer dimensions. But there are also functions in numpy that operate on arrays as a whole rather than elementwise and return transformed arrays of the same size, although not necessarily of the same shape.\n",
    "\n",
    "The first function we're going to talk about is np.transpose. There also exists a method in the ndarray class with the same name and we can also use a special name, just capital T, without parentheses. \n",
    "\n",
    "The function reverses all the axes. If used on a 2-dimensional array, it just exchanges the rows and the columns. Here are some examples."
   ]
  },
  {
   "cell_type": "code",
   "execution_count": 3,
   "metadata": {},
   "outputs": [
    {
     "data": {
      "text/plain": [
       "array([[ 1, 11, 13],\n",
       "       [ 4,  1,  5],\n",
       "       [ 6, 16,  6],\n",
       "       [ 4,  9,  1]])"
      ]
     },
     "execution_count": 3,
     "metadata": {},
     "output_type": "execute_result"
    }
   ],
   "source": [
    "import numpy as np\n",
    "\n",
    "# Here's a matrix array\n",
    "A = np.random.randint(1, 20, (4, 3))\n",
    "A"
   ]
  },
  {
   "cell_type": "code",
   "execution_count": 4,
   "metadata": {},
   "outputs": [
    {
     "data": {
      "text/plain": [
       "array([[ 1,  4,  6,  4],\n",
       "       [11,  1, 16,  9],\n",
       "       [13,  5,  6,  1]])"
      ]
     },
     "execution_count": 4,
     "metadata": {},
     "output_type": "execute_result"
    }
   ],
   "source": [
    "# Let's now transpose it. First using the transpose function.\n",
    "np.transpose(A)"
   ]
  },
  {
   "cell_type": "code",
   "execution_count": 5,
   "metadata": {},
   "outputs": [
    {
     "data": {
      "text/plain": [
       "array([[ 1,  4,  6,  4],\n",
       "       [11,  1, 16,  9],\n",
       "       [13,  5,  6,  1]])"
      ]
     },
     "execution_count": 5,
     "metadata": {},
     "output_type": "execute_result"
    }
   ],
   "source": [
    "# As you can see the rows and the columns have been swapped. We can do the same using the transpose method:\n",
    "A.transpose()"
   ]
  },
  {
   "cell_type": "code",
   "execution_count": 7,
   "metadata": {},
   "outputs": [
    {
     "data": {
      "text/plain": [
       "array([[ 1,  4,  6,  4],\n",
       "       [11,  1, 16,  9],\n",
       "       [13,  5,  6,  1]])"
      ]
     },
     "execution_count": 7,
     "metadata": {},
     "output_type": "execute_result"
    }
   ],
   "source": [
    "# or its special name, T:\n",
    "A.T"
   ]
  },
  {
   "cell_type": "code",
   "execution_count": 10,
   "metadata": {},
   "outputs": [
    {
     "data": {
      "text/plain": [
       "array([[ 1, 11, 13],\n",
       "       [ 4,  1,  5],\n",
       "       [ 6, 16,  6],\n",
       "       [ 4,  9,  1]])"
      ]
     },
     "execution_count": 10,
     "metadata": {},
     "output_type": "execute_result"
    }
   ],
   "source": [
    "# Then we have the np.fliplr (for flip left-right) and np.flipud (for flip up-down) functions that we can use to\n",
    "# flip an array horizontally or vertically. First let's print the A array again so that we can see it better.\n",
    "A"
   ]
  },
  {
   "cell_type": "code",
   "execution_count": 11,
   "metadata": {},
   "outputs": [
    {
     "data": {
      "text/plain": [
       "array([[13, 11,  1],\n",
       "       [ 5,  1,  4],\n",
       "       [ 6, 16,  6],\n",
       "       [ 1,  9,  4]])"
      ]
     },
     "execution_count": 11,
     "metadata": {},
     "output_type": "execute_result"
    }
   ],
   "source": [
    "# And now let's see how these two functions work. First horizontally:\n",
    "np.fliplr(A)"
   ]
  },
  {
   "cell_type": "code",
   "execution_count": 12,
   "metadata": {},
   "outputs": [
    {
     "data": {
      "text/plain": [
       "array([[ 4,  9,  1],\n",
       "       [ 6, 16,  6],\n",
       "       [ 4,  1,  5],\n",
       "       [ 1, 11, 13]])"
      ]
     },
     "execution_count": 12,
     "metadata": {},
     "output_type": "execute_result"
    }
   ],
   "source": [
    "# and now vertically:\n",
    "np.flipud(A)"
   ]
  },
  {
   "cell_type": "code",
   "execution_count": 16,
   "metadata": {},
   "outputs": [
    {
     "data": {
      "text/plain": [
       "array([[ 1, 11, 13],\n",
       "       [ 4,  1,  5],\n",
       "       [ 6, 16,  6],\n",
       "       [ 4,  9,  1]])"
      ]
     },
     "execution_count": 16,
     "metadata": {},
     "output_type": "execute_result"
    }
   ],
   "source": [
    "# Another function is np.sort. It sorts the elements of an array along a specified axis. Let's print the A array again:\n",
    "A"
   ]
  },
  {
   "cell_type": "code",
   "execution_count": 17,
   "metadata": {},
   "outputs": [
    {
     "data": {
      "text/plain": [
       "array([[ 1, 11, 13],\n",
       "       [ 1,  4,  5],\n",
       "       [ 6,  6, 16],\n",
       "       [ 1,  4,  9]])"
      ]
     },
     "execution_count": 17,
     "metadata": {},
     "output_type": "execute_result"
    }
   ],
   "source": [
    "# And now let's sort it along the last axis, which is the default.\n",
    "np.sort(A)"
   ]
  },
  {
   "cell_type": "code",
   "execution_count": 18,
   "metadata": {},
   "outputs": [
    {
     "data": {
      "text/plain": [
       "array([[ 1,  1,  1],\n",
       "       [ 4,  9,  5],\n",
       "       [ 4, 11,  6],\n",
       "       [ 6, 16, 13]])"
      ]
     },
     "execution_count": 18,
     "metadata": {},
     "output_type": "execute_result"
    }
   ],
   "source": [
    "# And now let's specify another axis.\n",
    "np.sort(A, axis = 0)"
   ]
  },
  {
   "cell_type": "code",
   "execution_count": 21,
   "metadata": {},
   "outputs": [
    {
     "data": {
      "text/plain": [
       "array([[ 1, 11, 13],\n",
       "       [ 1,  4,  5],\n",
       "       [ 6,  6, 16],\n",
       "       [ 1,  4,  9]])"
      ]
     },
     "execution_count": 21,
     "metadata": {},
     "output_type": "execute_result"
    }
   ],
   "source": [
    "# The np.sort function returns a new array. If what we need is inplace sorting, we should use the sort method:\n",
    "A.sort()\n",
    "A"
   ]
  },
  {
   "cell_type": "markdown",
   "metadata": {},
   "source": [
    "EXERCISE\n",
    "\n",
    "Create a 2 x 4 array of containing the integers: 7, 2, 3, 7, 4, 9, 0, 2 and then transpose it. In the original transposed array sort the elements in each column.\n",
    "\n",
    "SOLUTION"
   ]
  },
  {
   "cell_type": "code",
   "execution_count": 45,
   "metadata": {},
   "outputs": [
    {
     "data": {
      "text/plain": [
       "array([[7, 4],\n",
       "       [2, 9],\n",
       "       [3, 0],\n",
       "       [7, 2]])"
      ]
     },
     "execution_count": 45,
     "metadata": {},
     "output_type": "execute_result"
    }
   ],
   "source": [
    "X = np.array([7, 2, 3, 7, 4, 9, 0, 2]).reshape(2, 4).T\n",
    "X"
   ]
  },
  {
   "cell_type": "code",
   "execution_count": 46,
   "metadata": {},
   "outputs": [
    {
     "data": {
      "text/plain": [
       "array([[2, 0],\n",
       "       [3, 2],\n",
       "       [7, 4],\n",
       "       [7, 9]])"
      ]
     },
     "execution_count": 46,
     "metadata": {},
     "output_type": "execute_result"
    }
   ],
   "source": [
    "X.sort(axis = 0)\n",
    "X"
   ]
  }
 ],
 "metadata": {
  "kernelspec": {
   "display_name": "Python 3",
   "language": "python",
   "name": "python3"
  },
  "language_info": {
   "codemirror_mode": {
    "name": "ipython",
    "version": 3
   },
   "file_extension": ".py",
   "mimetype": "text/x-python",
   "name": "python",
   "nbconvert_exporter": "python",
   "pygments_lexer": "ipython3",
   "version": "3.7.4"
  }
 },
 "nbformat": 4,
 "nbformat_minor": 2
}
