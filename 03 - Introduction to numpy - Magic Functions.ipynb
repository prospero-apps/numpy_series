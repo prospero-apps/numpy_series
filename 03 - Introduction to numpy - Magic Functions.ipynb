{
 "cells": [
  {
   "cell_type": "markdown",
   "metadata": {},
   "source": [
    "In IPython we can use extension commands, known as magic functions. One-line commands are preceded by a single % sign, and commands working on a whole cell are preceded by a double % sign.\n",
    "\n",
    "You can use the %lsmagic command to list all available magic functions:\n",
    "\n",
    "In [14]: %lsmagic\n",
    "Out[14]:\n",
    "Available line magics:\n",
    "%alias  %alias_magic  %autoawait  %autocall  %autoindent  %automagic  %bookmark  %cd  %cls  %colors  %conda  %config  %copy  %cpaste  %ddir  %debug  %dhist  %dirs  %doctest_mode  %echo  %ed  %edit  %env  %gui  %hist  %history  %killbgscripts  %ldir  %load  %load_ext  %loadpy  %logoff  %logon  %logstart  %logstate  %logstop  %ls  %lsmagic  %macro  %magic  %matplotlib  %mkdir  %notebook  %page  %paste  %pastebin  %pdb  %pdef  %pdoc  %pfile  %pinfo  %pinfo2  %pip  %popd  %pprint  %precision  %prun  %psearch  %psource  %pushd  %pwd  %pycat  %pylab  %quickref  %recall  %rehashx  %reload_ext  %ren  %rep  %rerun  %reset  %reset_selective  %rmdir  %run  %save  %sc  %set_env  %store  %sx  %system  %tb  %time  %timeit  %unalias  %unload_ext  %who  %who_ls  %whos  %xdel  %xmode\n",
    "\n",
    "Available cell magics:\n",
    "%%!  %%HTML  %%SVG  %%bash  %%capture  %%cmd  %%debug  %%file  %%html  %%javascript  %%js  %%latex  %%markdown  %%perl  %%prun  %%pypy  %%python  %%python2  %%python3  %%ruby  %%script  %%sh  %%svg  %%sx  %%system  %%time  %%timeit  %%writefile\n",
    "\n",
    "Automagic is ON, % prefix IS NOT needed for line magics.\n",
    "\n",
    "If you're interested in what they do, you can check them out by following them with a question mark:\n",
    "\n",
    "In [15]: %matplotlib?\n",
    "Docstring:\n",
    "::\n",
    "\n",
    "  %matplotlib [-l] [gui]\n",
    "\n",
    "Set up matplotlib to work interactively.\n",
    "\n",
    "This function lets you activate matplotlib interactive support\n",
    "at any point during an IPython session. It does not import anything\n",
    "into the interactive namespace.\n",
    "...\n",
    "\n",
    "\n",
    "Now let's have a look at two of the most frequently used magic functions, %timeit and %time (and also their counterparts used for the whole cell, %%timeit and %%time). The %timeit command runs a Python statement multiple times and estimates its runtime. It doesn't return the result of the expression. If we need the result, we can use the %time and %%time commands, but they only run the statement once, so they are not very accurate.\n",
    "\n",
    "Let's first define a function and then use the two methods to see how much time it needs to execute:\n",
    "\n",
    "In [20]: def cube(n):\n",
    "    ...:     return [i ** 3 for i in range(n)]\n",
    "    ...:\n",
    "\n",
    "In [21]: %timeit cube(10000)\n",
    "7.14 ms ± 86.9 µs per loop (mean ± std. dev. of 7 runs, 100 loops each)\n",
    "\n",
    "In [22]: cubes = %time cube(10000)\n",
    "Wall time: 15.6 ms\n",
    "\n",
    "\n",
    "Magic functions are also used in Jupyter Notebook. We'll have a look at some of them when we need them."
   ]
  }
 ],
 "metadata": {
  "kernelspec": {
   "display_name": "Python 3",
   "language": "python",
   "name": "python3"
  },
  "language_info": {
   "codemirror_mode": {
    "name": "ipython",
    "version": 3
   },
   "file_extension": ".py",
   "mimetype": "text/x-python",
   "name": "python",
   "nbconvert_exporter": "python",
   "pygments_lexer": "ipython3",
   "version": "3.7.4"
  }
 },
 "nbformat": 4,
 "nbformat_minor": 2
}
