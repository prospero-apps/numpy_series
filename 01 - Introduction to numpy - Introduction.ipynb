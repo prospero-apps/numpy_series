{
 "cells": [
  {
   "cell_type": "raw",
   "metadata": {},
   "source": [
    "In this course we'll learn how to use Python for scientific computations using the numpy Module, which is the basic module used in scientific Python. This is a beginner level course as far as scientific Python is concerned, but it's not a beginner level course as far as the Python language itself is concerned. I assume you have at least some basic knowledge of the language.\n",
    "\n",
    "Now, for scientific computations we need more than just Python. We need a whole environment to work in. In its most basic form this environment contains:\n",
    "\n",
    "- the Python language (we'll be using Python 3 throughout the course)\n",
    "- development tools and interactive programming environments, such as Spyder, IPython console, Jupyter Notebook\n",
    "- Python packages for scientific computing like NumPy, SymPy, Matplotlib, Pandas, SciPy or Scikit-learn to mention just a few\n",
    "\n",
    "Many of the libraries used in scientific Python are implemented in a compiled low-level language, which makes the computations  optimized, efficient and fast. \n",
    "\n",
    "In the first section we'll have a look at the development tools and interactive programming environments, and then in the following sections we'll discuss the numpy module in more detail.\n",
    "\n",
    "So, to start with, in the following lectures let's have a look at the IPython console, the Spyder Integrated Development Environment and the Jupyter Notebook web application. As in this course we'll be working with Jupyter Notebook, we'll discuss this environment in more detail than the others.\n",
    "\n",
    "First of all, we have to install all the tools and environments we need. You surely already have a Python interpreter installed, so now you can install all the other stuff you need. What I suggest is using the Anaconda distribution. This will install on your machine a Python interpreter, the IPython console, the Spyder IDE, the Jupyter Notebook application, and all the scientific libraries you may or may not need on a regular basis, such like numpy, sympy, matplotlib, pandas, scipy, scikit-learn and many, many more. It also comes with the conda package manager. As you can see, the Anaconda environment is bundled with a large number of libraries to get a scientific computing environment for Python up and running in no time.\n",
    "\n",
    "In order to install all the stuff using the Anaconda distribution, just visit the www.anaconda.com website and install the version for Python 3. Just follow the instructions and after everything is installed, you're good to go.\n",
    "\n",
    "If you want to have more control over the packages you install, you can choose the Miniconda distribution, which is a minimal version of Anaconda. \n",
    "\n",
    "\n"
   ]
  }
 ],
 "metadata": {
  "kernelspec": {
   "display_name": "Python 3",
   "language": "python",
   "name": "python3"
  },
  "language_info": {
   "codemirror_mode": {
    "name": "ipython",
    "version": 3
   },
   "file_extension": ".py",
   "mimetype": "text/x-python",
   "name": "python",
   "nbconvert_exporter": "python",
   "pygments_lexer": "ipython3",
   "version": "3.7.4"
  }
 },
 "nbformat": 4,
 "nbformat_minor": 2
}
