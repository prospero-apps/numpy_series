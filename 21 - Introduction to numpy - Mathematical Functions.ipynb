{
 "cells": [
  {
   "cell_type": "markdown",
   "metadata": {},
   "source": [
    "numpy provides lots of mathematical functions which are vectorized, just like the arithmetic operations, which means they operate elementwise. They return new arrays of the same size and shape with elements of the same type or another type if necessary.\n",
    "\n",
    "There are really lots of mathematical functions, let's just have a look at a narrow selection of them. Others will be used in the future when need arises.\n",
    "\n",
    "Let's start by creating a simple vector array on which we can demonstrate how the functions work."
   ]
  },
  {
   "cell_type": "code",
   "execution_count": 2,
   "metadata": {},
   "outputs": [
    {
     "data": {
      "text/plain": [
       "array([ 1,  2, 10, 20])"
      ]
     },
     "execution_count": 2,
     "metadata": {},
     "output_type": "execute_result"
    }
   ],
   "source": [
    "import numpy as np\n",
    "\n",
    "# Here's a simple array.\n",
    "A = np.array([1, 2, 10, 20])\n",
    "A"
   ]
  },
  {
   "cell_type": "code",
   "execution_count": 3,
   "metadata": {},
   "outputs": [
    {
     "data": {
      "text/plain": [
       "array([1.        , 1.41421356, 3.16227766, 4.47213595])"
      ]
     },
     "execution_count": 3,
     "metadata": {},
     "output_type": "execute_result"
    }
   ],
   "source": [
    "# And now let's demonstrate some functions. \n",
    "# First np.sqrt, which returns the square root.\n",
    "np.sqrt(A)"
   ]
  },
  {
   "cell_type": "code",
   "execution_count": 5,
   "metadata": {},
   "outputs": [
    {
     "data": {
      "text/plain": [
       "array([2.71828183e+00, 7.38905610e+00, 2.20264658e+04, 4.85165195e+08])"
      ]
     },
     "execution_count": 5,
     "metadata": {},
     "output_type": "execute_result"
    }
   ],
   "source": [
    "# Next np.exp, which returns the exponential.\n",
    "np.exp(A)"
   ]
  },
  {
   "cell_type": "code",
   "execution_count": 6,
   "metadata": {},
   "outputs": [
    {
     "data": {
      "text/plain": [
       "array([0.        , 1.        , 3.32192809, 4.32192809])"
      ]
     },
     "execution_count": 6,
     "metadata": {},
     "output_type": "execute_result"
    }
   ],
   "source": [
    "# Then we have the logarithms in a couple of flavors, like the natural logarithm (np.log), \n",
    "# the logarithm in base 2 (np.log2) or the logarithm in base 10 (np.log10):\n",
    "np.log2(A)"
   ]
  },
  {
   "cell_type": "code",
   "execution_count": 11,
   "metadata": {},
   "outputs": [
    {
     "data": {
      "text/plain": [
       "array([ 0.84147098,  0.90929743, -0.54402111,  0.91294525])"
      ]
     },
     "execution_count": 11,
     "metadata": {},
     "output_type": "execute_result"
    }
   ],
   "source": [
    "# Then we have the trigonometric functions, as well as the inverse, hyperbolic and inverse hyperbolic trigonometric functions.\n",
    "# Here's an example with the sine function - here the values are in radians.\n",
    "np.sin(A)"
   ]
  },
  {
   "cell_type": "code",
   "execution_count": 12,
   "metadata": {},
   "outputs": [
    {
     "data": {
      "text/plain": [
       "array([ 0.84,  0.91, -0.54,  0.91])"
      ]
     },
     "execution_count": 12,
     "metadata": {},
     "output_type": "execute_result"
    }
   ],
   "source": [
    "# The next function is np.round, which is used to round numbers to a given number of decimal places. Let's use it\n",
    "# along with the result of the sine function.\n",
    "np.round(np.sin(A), decimals = 2)"
   ]
  },
  {
   "cell_type": "markdown",
   "metadata": {},
   "source": [
    "EXERCISE\n",
    "\n",
    "Here's a simple array:\n",
    "\n",
    "X = np.linspace(1, np.e, 10)\n",
    "\n",
    "where np.e is a constant, the Euler's number, approximately equal to 2.71828.\n",
    "\n",
    "Using some of the mathematical functions presented above create an array of natural logarithms of the numbers from the X array, rounded to 3 decimal places.\n",
    "\n",
    "SOLUTION"
   ]
  },
  {
   "cell_type": "code",
   "execution_count": 19,
   "metadata": {},
   "outputs": [
    {
     "data": {
      "text/plain": [
       "array([0.   , 0.175, 0.323, 0.453, 0.567, 0.67 , 0.763, 0.849, 0.927,\n",
       "       1.   ])"
      ]
     },
     "execution_count": 19,
     "metadata": {},
     "output_type": "execute_result"
    }
   ],
   "source": [
    "X = np.linspace(1, np.e, 10)\n",
    "\n",
    "np.round(np.log(X), decimals = 3)"
   ]
  }
 ],
 "metadata": {
  "kernelspec": {
   "display_name": "Python 3",
   "language": "python",
   "name": "python3"
  },
  "language_info": {
   "codemirror_mode": {
    "name": "ipython",
    "version": 3
   },
   "file_extension": ".py",
   "mimetype": "text/x-python",
   "name": "python",
   "nbconvert_exporter": "python",
   "pygments_lexer": "ipython3",
   "version": "3.7.4"
  }
 },
 "nbformat": 4,
 "nbformat_minor": 2
}
